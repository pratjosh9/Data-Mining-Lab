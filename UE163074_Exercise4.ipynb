{
 "cells": [
  {
   "cell_type": "markdown",
   "metadata": {},
   "source": [
    "Question 1: Calculate Word Frequencies. Take a set of sentences in a string as an input. Count each unique occurrence of a word and calculate frequency of occurrence and store in a dictionary. Produce a frequency table."
   ]
  },
  {
   "cell_type": "code",
   "execution_count": 10,
   "metadata": {},
   "outputs": [
    {
     "name": "stdout",
     "output_type": "stream",
     "text": [
      "Enter a string Lorem ipsum dolor sit amet, consectetur adipiscing elit, sed do eiusmod tempor incididunt ut labore et dolore magna aliqua. Ut enim ad minim veniam, quis nostrud exercitation ullamco laboris nisi ut aliquip ex ea commodo consequat. Duis aute irure dolor in reprehenderit in voluptate velit esse cillum dolore eu fugiat nulla pariatur. Excepteur sint occaecat cupidatat non proident, sunt in culpa qui officia deserunt mollit anim id est laborum.\n",
      "----------------------------\n",
      "Word            |  Frequency \n",
      "----------------------------\n",
      "Lorem           |          1\n",
      "ipsum           |          1\n",
      "dolor           |          2\n",
      "sit             |          1\n",
      "amet            |          1\n",
      "consectetur     |          1\n",
      "adipiscing      |          1\n",
      "elit            |          1\n",
      "sed             |          1\n",
      "do              |          1\n",
      "eiusmod         |          1\n",
      "tempor          |          1\n",
      "incididunt      |          1\n",
      "ut              |          2\n",
      "labore          |          1\n",
      "et              |          1\n",
      "dolore          |          2\n",
      "magna           |          1\n",
      "aliqua          |          1\n",
      "Ut              |          1\n",
      "enim            |          1\n",
      "ad              |          1\n",
      "minim           |          1\n",
      "veniam          |          1\n",
      "quis            |          1\n",
      "nostrud         |          1\n",
      "exercitation    |          1\n",
      "ullamco         |          1\n",
      "laboris         |          1\n",
      "nisi            |          1\n",
      "aliquip         |          1\n",
      "ex              |          1\n",
      "ea              |          1\n",
      "commodo         |          1\n",
      "consequat       |          1\n",
      "Duis            |          1\n",
      "aute            |          1\n",
      "irure           |          1\n",
      "in              |          3\n",
      "reprehenderit   |          1\n",
      "voluptate       |          1\n",
      "velit           |          1\n",
      "esse            |          1\n",
      "cillum          |          1\n",
      "eu              |          1\n",
      "fugiat          |          1\n",
      "nulla           |          1\n",
      "pariatur        |          1\n",
      "Excepteur       |          1\n",
      "sint            |          1\n",
      "occaecat        |          1\n",
      "cupidatat       |          1\n",
      "non             |          1\n",
      "proident        |          1\n",
      "sunt            |          1\n",
      "culpa           |          1\n",
      "qui             |          1\n",
      "officia         |          1\n",
      "deserunt        |          1\n",
      "mollit          |          1\n",
      "anim            |          1\n",
      "id              |          1\n",
      "est             |          1\n",
      "laborum         |          1\n"
     ]
    }
   ],
   "source": [
    "import string\n",
    "ip_string = input('Enter a string ')\n",
    "\n",
    "table = str.maketrans({key: None for key in string.punctuation})\n",
    "ip_string = ip_string.translate(table)\n",
    "\n",
    "str_list = ip_string.split()\n",
    "\n",
    "freq_table = {}\n",
    "for word in str_list:\n",
    "    if word in freq_table.keys():\n",
    "        freq_table[word] += 1\n",
    "    else:\n",
    "        freq_table[word] = 1\n",
    "\n",
    "print('-'*28)\n",
    "print('{:15} |  {:10}'.format(\"Word\", 'Frequency'))        \n",
    "print('-'*28)\n",
    "for word, freq in freq_table.items():\n",
    "    print('{:15} | {:10}'.format(word, freq))"
   ]
  },
  {
   "cell_type": "markdown",
   "metadata": {},
   "source": [
    "Question 2: Result Calculation. Create a dictionary and a list like following.\n",
    "\n",
    "```python\n",
    "Student = { 'UE183001': 'Avish', 'UE183002': 'Bhavya', 'UE183003': 'Tanya' } Add atleast 10 students\n",
    "Marks = [('UE183001', 'CS', 94 ), ('UE183002', 'CS', 64 ), ('UE183001', 'RV', 94), ('UE183002', 'CS', 74), \n",
    "  ('UE183003', 'CS', 64)] \n",
    "```\n",
    "Add some more values\n",
    "Find total marks of each students and display full name of student with total marks secured. This is the basic relational database join algorithm between two tables."
   ]
  },
  {
   "cell_type": "code",
   "execution_count": 30,
   "metadata": {},
   "outputs": [
    {
     "name": "stdout",
     "output_type": "stream",
     "text": [
      "Avish 284\n",
      "Bhavya 97\n",
      "Tanya 87\n",
      "Ravi 194\n",
      "Karan 130\n",
      "Raj 90\n",
      "Ajay 97\n",
      "Laxman 88\n",
      "Aaryan 32\n",
      "Shashwat 47\n"
     ]
    }
   ],
   "source": [
    "def join_table(student, marks):\n",
    "    for roll_no in student.keys():\n",
    "        stud_marks = 0\n",
    "        for record in marks:\n",
    "            if roll_no == record[0]:\n",
    "                stud_marks += record[2]\n",
    "        print(student[roll_no], stud_marks)\n",
    "\n",
    "Student = {'UE18001' : 'Avish', 'UE18002' : 'Bhavya', 'UE18003' : 'Tanya', 'UE18004' : 'Ravi', 'UE18005' : 'Karan',\n",
    "           'UE18006' : 'Raj', 'UE18007' : 'Ajay', 'UE18008' : 'Laxman', 'UE18009' : 'Aaryan', 'UE18010' : 'Shashwat'}\n",
    "\n",
    "Marks = [('UE18004','KS',97), ('UE18005','LS',47), ('UE18001','DW',90), ('UE18010','CS',47), ('UE18009','CS',32), \n",
    "         ('UE18008','CS',88), ('UE18007','CS',97), ('UE18006','CS',90), ('UE18005','CS',83), ('UE18004','JS',97),\n",
    "         ('UE18001','DS',97), ('UE18003','CS',87), ('UE18002','CS',97), ('UE18001','CS',97)]\n",
    "\n",
    "join_table(Student, Marks)"
   ]
  },
  {
   "cell_type": "markdown",
   "metadata": {},
   "source": [
    "Question 3: A date of the form 8-MAR-85 includes the name of the month, which must be translated to a number. Create a dict suitable for decoding month names to numbers. Create a function which uses string operations to split the date into 3 items using the \"-\" character. Translate the month, correct the year to include all of the digits.\n",
    "The function will accept a date in the \"dd-MMM-yy\" format and respond with a tuple of ( y , m , d )."
   ]
  },
  {
   "cell_type": "code",
   "execution_count": 3,
   "metadata": {},
   "outputs": [
    {
     "name": "stdout",
     "output_type": "stream",
     "text": [
      "Enter a date 8-MAR-55\n",
      "Formatted date is  ('1955', '3', '8')\n"
     ]
    }
   ],
   "source": [
    "month_list = ['JAN', 'FEB', 'MAR', 'APR', 'MAY', 'JUN', 'JUL', 'AUG', 'SEP', 'OCT', 'NOV', 'DEC']\n",
    "month_dict = {k : v for k,v in zip(month_list, range(1,13))}\n",
    "\n",
    "def date_format(date_str):\n",
    "    global month_dict\n",
    "    day, month, year = date_str.split('-')\n",
    "    month = str(month_dict[month])\n",
    "    year = int(year)\n",
    "    if year > 19:\n",
    "        year = 1900 + year\n",
    "    else:\n",
    "        year = 2000 + year\n",
    "    year = str(year)\n",
    "    return (year, month, day)\n",
    "\n",
    "date_ip = input('Enter a date ')\n",
    "print('Formatted date is ', date_format(date_ip))"
   ]
  },
  {
   "cell_type": "markdown",
   "metadata": {},
   "source": [
    "Question 4: Dice Odds. There are 36 possible combinations of two dice. A sim→ple pair of loops over range(6)+1 will enumerate all combinations. The sum of the two dice is more interesting than the actual combination. Create a dict of all combinations, using the sum of the two dice as the key. Each value in the dict should be a list of tuples; each tuple has the value of two dice. The general outline is something like the following:\n",
    "\n",
    "\n",
    "`d= {}\n",
    "Loop with d1 from 1 to 6\n",
    "    Loop with d2 from 1 to 6\n",
    "        newTuple ← ( d1, d2 ) # create the tuple\n",
    "        oldList ← dictionary entry for sum d1+d2\n",
    "        newList ← oldList + newTuple\n",
    "        replace entry in dictionary with newList\n",
    "Loop over all values in the dictionary\n",
    "print the key and the length of the list`"
   ]
  },
  {
   "cell_type": "code",
   "execution_count": 9,
   "metadata": {},
   "outputs": [
    {
     "name": "stdout",
     "output_type": "stream",
     "text": [
      "  Sum Frequency Entries                       \n",
      "    2         1 [(1, 1)]\n",
      "    3         2 [(1, 2), (2, 1)]\n",
      "    4         3 [(1, 3), (2, 2), (3, 1)]\n",
      "    5         4 [(1, 4), (2, 3), (3, 2), (4, 1)]\n",
      "    6         5 [(1, 5), (2, 4), (3, 3), (4, 2), (5, 1)]\n",
      "    7         6 [(1, 6), (2, 5), (3, 4), (4, 3), (5, 2), (6, 1)]\n",
      "    8         5 [(2, 6), (3, 5), (4, 4), (5, 3), (6, 2)]\n",
      "    9         4 [(3, 6), (4, 5), (5, 4), (6, 3)]\n",
      "   10         3 [(4, 6), (5, 5), (6, 4)]\n",
      "   11         2 [(5, 6), (6, 5)]\n",
      "   12         1 [(6, 6)]\n"
     ]
    }
   ],
   "source": [
    "dice_dict = {k:[] for k in range(2, 13)}\n",
    "\n",
    "for i in range(1, 7):\n",
    "    for j in range(1, 7):\n",
    "        dice_dict[i+j].append((i, j))\n",
    "\n",
    "print(\"{:>5} {:9} {:30}\".format(\"Sum\", \"Frequency\", \"Entries\"))\n",
    "for k in dice_dict.keys():\n",
    "    print(\"{:5} {:9} {}\".format(k, len(dice_dict[k]), dice_dict[k]))"
   ]
  }
 ],
 "metadata": {
  "kernelspec": {
   "display_name": "Python 3",
   "language": "python",
   "name": "python3"
  },
  "language_info": {
   "codemirror_mode": {
    "name": "ipython",
    "version": 3
   },
   "file_extension": ".py",
   "mimetype": "text/x-python",
   "name": "python",
   "nbconvert_exporter": "python",
   "pygments_lexer": "ipython3",
   "version": "3.7.1"
  }
 },
 "nbformat": 4,
 "nbformat_minor": 2
}
