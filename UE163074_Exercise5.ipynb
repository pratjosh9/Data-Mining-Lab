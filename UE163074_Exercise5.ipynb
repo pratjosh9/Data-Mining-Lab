{
 "cells": [
  {
   "cell_type": "code",
   "execution_count": 1,
   "metadata": {},
   "outputs": [],
   "source": [
    "import numpy as np"
   ]
  },
  {
   "cell_type": "markdown",
   "metadata": {},
   "source": [
    "1.Create a function to check whether numpy array has Zero values or not."
   ]
  },
  {
   "cell_type": "code",
   "execution_count": 2,
   "metadata": {},
   "outputs": [],
   "source": [
    "def contains_zeroes(arr):\n",
    "    zeroes = np.count_nonzero(arr)\n",
    "    if zeroes == 0:\n",
    "        return True\n",
    "    else:\n",
    "        return False"
   ]
  },
  {
   "cell_type": "code",
   "execution_count": 3,
   "metadata": {},
   "outputs": [
    {
     "name": "stdout",
     "output_type": "stream",
     "text": [
      "False\n"
     ]
    }
   ],
   "source": [
    "a = np.array([1, 2, 3, 0, 2])\n",
    "print(contains_zeroes(a))"
   ]
  },
  {
   "cell_type": "markdown",
   "metadata": {},
   "source": [
    "2.Consider an array contains marks of students. Find the median and mean of students who got passing marks."
   ]
  },
  {
   "cell_type": "code",
   "execution_count": 4,
   "metadata": {},
   "outputs": [],
   "source": [
    "def get_marks_stats(marks, pass_marks = 40):\n",
    "    pass_students = marks[np.where(marks >= pass_marks)]\n",
    "    return (np.median(pass_students), np.mean(pass_students))"
   ]
  },
  {
   "cell_type": "code",
   "execution_count": 5,
   "metadata": {},
   "outputs": [
    {
     "name": "stdout",
     "output_type": "stream",
     "text": [
      "Median :  71.5, Mean : 71.61666666666666\n"
     ]
    }
   ],
   "source": [
    "marks = np.random.randint(low=0, high=100, size=100)\n",
    "median_marks, mean_marks = get_marks_stats(marks)\n",
    "print('Median :  {}, Mean : {}'.format(median_marks, mean_marks))"
   ]
  },
  {
   "cell_type": "markdown",
   "metadata": {},
   "source": [
    "3.Consider an array containing date of birth of students (Use `np.datetime64('2018-02-01')`). Find the age of all students. If age is 18 label it First, if it is 19, label it Second, if it is 20, label it Third, if it is 21, label it Fourth."
   ]
  },
  {
   "cell_type": "code",
   "execution_count": 6,
   "metadata": {},
   "outputs": [],
   "source": [
    "def get_my(date):\n",
    "    return list(map(np.int64, [np.datetime64(date, 'M'), np.datetime64(date, 'Y')]))"
   ]
  },
  {
   "cell_type": "code",
   "execution_count": 7,
   "metadata": {},
   "outputs": [],
   "source": [
    "def calc_age(dob):\n",
    "    present = np.datetime64('today')\n",
    "    m_dob, y_dob = get_my(dob)\n",
    "    m_present, y_present = get_my(present)\n",
    "    age_y = y_present - y_dob\n",
    "    if dob != present:\n",
    "        age_y -= 1\n",
    "    return max(0, age_y-17)"
   ]
  },
  {
   "cell_type": "code",
   "execution_count": 8,
   "metadata": {},
   "outputs": [],
   "source": [
    "def get_label(dates):\n",
    "    labels = np.array([calc_age(x) for x in dates])\n",
    "    labels_dict = {1: 'First', 2: 'Second', 3: 'Third', 4: 'Fourth', 5: 'Fifth'}\n",
    "    return [labels_dict[x] for x in labels]"
   ]
  },
  {
   "cell_type": "code",
   "execution_count": 9,
   "metadata": {},
   "outputs": [
    {
     "name": "stdout",
     "output_type": "stream",
     "text": [
      "['First', 'Third', 'Fourth']\n"
     ]
    }
   ],
   "source": [
    "dates = np.array(['2000-02-10', '1998-06-15', '1997-08-13'], dtype='datetime64')\n",
    "labels = get_label(dates)\n",
    "print(labels)"
   ]
  },
  {
   "cell_type": "markdown",
   "metadata": {},
   "source": [
    "4.Create a function to sort 2d Array by a column."
   ]
  },
  {
   "cell_type": "code",
   "execution_count": 10,
   "metadata": {},
   "outputs": [],
   "source": [
    "def sort_by_col(arr, col_no):\n",
    "    col_indices = np.argsort(arr[:, col_no])\n",
    "    sorted_arr = arr[col_indices]\n",
    "    return sorted_arr"
   ]
  },
  {
   "cell_type": "code",
   "execution_count": 11,
   "metadata": {},
   "outputs": [
    {
     "name": "stdout",
     "output_type": "stream",
     "text": [
      "Original Array  [[0.24777163 0.14715234 0.16054522]\n",
      " [0.39854582 0.684247   0.29343925]\n",
      " [0.31724914 0.84590894 0.66627449]]\n",
      "Sorted Array  [[0.24777163 0.14715234 0.16054522]\n",
      " [0.39854582 0.684247   0.29343925]\n",
      " [0.31724914 0.84590894 0.66627449]]\n"
     ]
    }
   ],
   "source": [
    "a = np.random.rand(3, 3)\n",
    "print('Original Array ' ,a)\n",
    "sorted_arr = sort_by_col(a, 1)\n",
    "print('Sorted Array ', sorted_arr)"
   ]
  },
  {
   "cell_type": "markdown",
   "metadata": {},
   "source": [
    "5.Create one hot encoding of an array. For example For an `array([2, 3, 2, 2, 2, 1])` Output should be\n",
    "\n",
    "   ```\n",
    "   array([[ 0.,  1.,  0.],\n",
    "\n",
    "             [ 0.,  0.,  1.],\n",
    "\n",
    "             [ 0.,  1.,  0.],\n",
    "\n",
    "             [ 0.,  1.,  0.],\n",
    "\n",
    "             [ 0.,  1.,  0.],\n",
    "\n",
    "            [ 1.,  0.,  0.]])\n",
    "   ```"
   ]
  },
  {
   "cell_type": "code",
   "execution_count": 12,
   "metadata": {},
   "outputs": [],
   "source": [
    "def one_hot_encode(arr):\n",
    "    target = arr - 1\n",
    "    n_values = np.max(target) + 1\n",
    "    return np.eye(n_values)[target]"
   ]
  },
  {
   "cell_type": "code",
   "execution_count": 13,
   "metadata": {},
   "outputs": [
    {
     "name": "stdout",
     "output_type": "stream",
     "text": [
      "[[0. 1. 0.]\n",
      " [0. 0. 1.]\n",
      " [0. 1. 0.]\n",
      " [0. 1. 0.]\n",
      " [0. 1. 0.]\n",
      " [1. 0. 0.]]\n"
     ]
    }
   ],
   "source": [
    "a = np.array([2, 3, 2, 2, 2, 1])\n",
    "print(one_hot_encode(a))"
   ]
  },
  {
   "cell_type": "markdown",
   "metadata": {},
   "source": [
    "6.Drop all missing values from an array Input: `np.array([1,2,3,np.nan,5,6,7,np.nan])` Desired Output: `array([ 1.,2.,3.,5.,6.,7.])`"
   ]
  },
  {
   "cell_type": "code",
   "execution_count": 14,
   "metadata": {},
   "outputs": [],
   "source": [
    "def remove_nan(arr):\n",
    "    return arr[np.where(np.logical_not(np.isnan(arr)))]    "
   ]
  },
  {
   "cell_type": "code",
   "execution_count": 15,
   "metadata": {},
   "outputs": [
    {
     "name": "stdout",
     "output_type": "stream",
     "text": [
      "[1. 2. 3. 5. 6. 7.]\n"
     ]
    }
   ],
   "source": [
    "arr = np.array([1,2,3,np.nan,5,6,7,np.nan])\n",
    "non_nan = remove_nan(arr)\n",
    "print(non_nan)"
   ]
  },
  {
   "cell_type": "markdown",
   "metadata": {},
   "source": [
    "7.Find Local maxima from an array. Input: `a = np.array([1, 3, 7, 1, 2, 6, 0, 1])` Desired Output: `array([2, 5])`"
   ]
  },
  {
   "cell_type": "code",
   "execution_count": 16,
   "metadata": {},
   "outputs": [],
   "source": [
    "def get_max(arr):\n",
    "    indices = np.arange(0, len(arr)-1, 1)\n",
    "    local_minimas = []\n",
    "    \n",
    "    if arr[0] > arr[1]:\n",
    "        local_minimas.append(0)\n",
    "    \n",
    "    for x in indices:\n",
    "        if x != 0:\n",
    "            if arr[x] > arr[x-1] and arr[x] > arr[x+1]:\n",
    "                local_minimas.append(x)\n",
    "    \n",
    "    if arr[-1] > arr[-2]:\n",
    "        local_minimas.append(len(arr)-1)\n",
    "    \n",
    "    return np.array(local_minimas)"
   ]
  },
  {
   "cell_type": "code",
   "execution_count": 17,
   "metadata": {},
   "outputs": [
    {
     "name": "stdout",
     "output_type": "stream",
     "text": [
      "[2 5 7]\n"
     ]
    }
   ],
   "source": [
    "a = np.array([1, 3, 7, 1, 2, 6, 0, 1])\n",
    "print(get_max(a))"
   ]
  },
  {
   "cell_type": "markdown",
   "metadata": {},
   "source": [
    "8.From the given 1d array arr, generate a 2d matrix using strides,\n",
    "\n",
    "For example for an `array ([ 0,  1,  2,  3,  4,  5,  6,  7,  8,  9, 10, 11, 12, 13, 14])` with a window length of `w=4` and strides of `s=2`, like `[[0,1,2,3], [2,3,4,5], [4,5,6,7]..]`.\n",
    "w and s will be provided by user"
   ]
  },
  {
   "cell_type": "code",
   "execution_count": 18,
   "metadata": {},
   "outputs": [],
   "source": [
    "def get_conv(arr, w, s):\n",
    "    indices = np.arange(0, len(arr), s)\n",
    "    mat = []\n",
    "    for i in indices:\n",
    "        if i + w < len(arr):\n",
    "            mat.append(arr[i:i+w])\n",
    "        else:\n",
    "            temp = arr[i:]\n",
    "            diff = w - len(temp)\n",
    "            temp = np.concatenate((temp, np.zeros(diff, np.int64)), axis=0)\n",
    "            mat.append(temp)\n",
    "    return np.array(mat)"
   ]
  },
  {
   "cell_type": "code",
   "execution_count": 19,
   "metadata": {},
   "outputs": [
    {
     "name": "stdout",
     "output_type": "stream",
     "text": [
      "[[ 0  1  2  3]\n",
      " [ 2  3  4  5]\n",
      " [ 4  5  6  7]\n",
      " [ 6  7  8  9]\n",
      " [ 8  9 10 11]\n",
      " [10 11 12 13]\n",
      " [12 13 14  0]\n",
      " [14  0  0  0]]\n"
     ]
    }
   ],
   "source": [
    "a = np.array([ 0,  1,  2,  3,  4,  5,  6,  7,  8,  9, 10, 11, 12, 13, 14])\n",
    "print(get_conv(a, 4, 2))"
   ]
  }
 ],
 "metadata": {
  "kernelspec": {
   "display_name": "Python 3",
   "language": "python",
   "name": "python3"
  },
  "language_info": {
   "codemirror_mode": {
    "name": "ipython",
    "version": 3
   },
   "file_extension": ".py",
   "mimetype": "text/x-python",
   "name": "python",
   "nbconvert_exporter": "python",
   "pygments_lexer": "ipython3",
   "version": "3.7.1"
  }
 },
 "nbformat": 4,
 "nbformat_minor": 2
}
