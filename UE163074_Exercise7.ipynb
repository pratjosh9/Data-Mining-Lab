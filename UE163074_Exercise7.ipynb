{
 "cells": [
  {
   "cell_type": "markdown",
   "metadata": {},
   "source": [
    "# Pandas Exercise\n",
    "## Required Imports"
   ]
  },
  {
   "cell_type": "code",
   "execution_count": 1,
   "metadata": {},
   "outputs": [],
   "source": [
    "import numpy as np\n",
    "import pandas as pd"
   ]
  },
  {
   "cell_type": "markdown",
   "metadata": {},
   "source": [
    "## Data Loading"
   ]
  },
  {
   "cell_type": "code",
   "execution_count": 2,
   "metadata": {},
   "outputs": [
    {
     "name": "stdout",
     "output_type": "stream",
     "text": [
      "'Online Retail.csv'  'Top 100 Private Colleges.2003.csv'\r\n"
     ]
    }
   ],
   "source": [
    "!ls data/"
   ]
  },
  {
   "cell_type": "code",
   "execution_count": 3,
   "metadata": {},
   "outputs": [],
   "source": [
    "file_path = \"data/Top 100 Private Colleges.2003.csv\""
   ]
  },
  {
   "cell_type": "code",
   "execution_count": 4,
   "metadata": {},
   "outputs": [],
   "source": [
    "data = pd.read_csv(file_path)"
   ]
  },
  {
   "cell_type": "code",
   "execution_count": 5,
   "metadata": {},
   "outputs": [
    {
     "data": {
      "text/html": [
       "<div>\n",
       "<style scoped>\n",
       "    .dataframe tbody tr th:only-of-type {\n",
       "        vertical-align: middle;\n",
       "    }\n",
       "\n",
       "    .dataframe tbody tr th {\n",
       "        vertical-align: top;\n",
       "    }\n",
       "\n",
       "    .dataframe thead th {\n",
       "        text-align: right;\n",
       "    }\n",
       "</style>\n",
       "<table border=\"1\" class=\"dataframe\">\n",
       "  <thead>\n",
       "    <tr style=\"text-align: right;\">\n",
       "      <th></th>\n",
       "      <th>Overall Rank</th>\n",
       "      <th>School</th>\n",
       "      <th>State</th>\n",
       "      <th>Undergrad. Enrollment</th>\n",
       "      <th>Admission Rate</th>\n",
       "      <th>*SAT or ACT</th>\n",
       "      <th>Student/faculty Ratio</th>\n",
       "      <th>4-year Grad. Rate</th>\n",
       "      <th>6-year Grad. Rate</th>\n",
       "      <th>Quality Rank</th>\n",
       "      <th>Total Costs</th>\n",
       "      <th>Cost After Need-based Aid</th>\n",
       "      <th>Need Met</th>\n",
       "      <th>Aid From Grants</th>\n",
       "      <th>Cost After Non-Need-Based Aid</th>\n",
       "      <th>Non-Need-Based Aid+</th>\n",
       "      <th>Average Debt</th>\n",
       "      <th>Cost Rank</th>\n",
       "    </tr>\n",
       "  </thead>\n",
       "  <tbody>\n",
       "    <tr>\n",
       "      <th>0</th>\n",
       "      <td>1.0</td>\n",
       "      <td>California Institute of Technology</td>\n",
       "      <td>CA</td>\n",
       "      <td>939.0</td>\n",
       "      <td>21%</td>\n",
       "      <td>99/100%</td>\n",
       "      <td>3.0</td>\n",
       "      <td>71%</td>\n",
       "      <td>85%</td>\n",
       "      <td>10.0</td>\n",
       "      <td>$32,682</td>\n",
       "      <td>$10,981</td>\n",
       "      <td>100%</td>\n",
       "      <td>93%</td>\n",
       "      <td>$18,553</td>\n",
       "      <td>15%</td>\n",
       "      <td>$10,244</td>\n",
       "      <td>4.0</td>\n",
       "    </tr>\n",
       "    <tr>\n",
       "      <th>1</th>\n",
       "      <td>2.0</td>\n",
       "      <td>Rice University</td>\n",
       "      <td>TX</td>\n",
       "      <td>2787.0</td>\n",
       "      <td>24%</td>\n",
       "      <td>89/92%</td>\n",
       "      <td>5.0</td>\n",
       "      <td>68%</td>\n",
       "      <td>89%</td>\n",
       "      <td>19.0</td>\n",
       "      <td>$28,350</td>\n",
       "      <td>$14,779</td>\n",
       "      <td>100%</td>\n",
       "      <td>88%</td>\n",
       "      <td>$22,418</td>\n",
       "      <td>34%</td>\n",
       "      <td>$12,705</td>\n",
       "      <td>5.0</td>\n",
       "    </tr>\n",
       "    <tr>\n",
       "      <th>2</th>\n",
       "      <td>3.0</td>\n",
       "      <td>Williams College</td>\n",
       "      <td>MA</td>\n",
       "      <td>1985.0</td>\n",
       "      <td>23%</td>\n",
       "      <td>93/93%</td>\n",
       "      <td>8.0</td>\n",
       "      <td>89%</td>\n",
       "      <td>94%</td>\n",
       "      <td>1.0</td>\n",
       "      <td>$36,550</td>\n",
       "      <td>$14,737</td>\n",
       "      <td>100%</td>\n",
       "      <td>89%</td>\n",
       "      <td>$33,251</td>\n",
       "      <td>NaN</td>\n",
       "      <td>$12,316</td>\n",
       "      <td>26.0</td>\n",
       "    </tr>\n",
       "    <tr>\n",
       "      <th>3</th>\n",
       "      <td>4.0</td>\n",
       "      <td>Swarthmore College</td>\n",
       "      <td>PA</td>\n",
       "      <td>1479.0</td>\n",
       "      <td>24%</td>\n",
       "      <td>94/98%</td>\n",
       "      <td>8.0</td>\n",
       "      <td>86%</td>\n",
       "      <td>92%</td>\n",
       "      <td>4.0</td>\n",
       "      <td>$38,676</td>\n",
       "      <td>$17,386</td>\n",
       "      <td>100%</td>\n",
       "      <td>85%</td>\n",
       "      <td>$11,404</td>\n",
       "      <td>2%</td>\n",
       "      <td>$12,759</td>\n",
       "      <td>21.0</td>\n",
       "    </tr>\n",
       "    <tr>\n",
       "      <th>4</th>\n",
       "      <td>5.0</td>\n",
       "      <td>Amherst College</td>\n",
       "      <td>MA</td>\n",
       "      <td>1618.0</td>\n",
       "      <td>18%</td>\n",
       "      <td>94/92%</td>\n",
       "      <td>9.0</td>\n",
       "      <td>84%</td>\n",
       "      <td>94%</td>\n",
       "      <td>5.0</td>\n",
       "      <td>$38,492</td>\n",
       "      <td>$14,453</td>\n",
       "      <td>100%</td>\n",
       "      <td>92%</td>\n",
       "      <td>$33,411</td>\n",
       "      <td>NaN</td>\n",
       "      <td>$11,544</td>\n",
       "      <td>38.0</td>\n",
       "    </tr>\n",
       "  </tbody>\n",
       "</table>\n",
       "</div>"
      ],
      "text/plain": [
       "   Overall Rank                              School State  \\\n",
       "0           1.0  California Institute of Technology    CA   \n",
       "1           2.0                     Rice University    TX   \n",
       "2           3.0                    Williams College    MA   \n",
       "3           4.0                  Swarthmore College    PA   \n",
       "4           5.0                     Amherst College    MA   \n",
       "\n",
       "   Undergrad. Enrollment Admission Rate *SAT or ACT  Student/faculty Ratio  \\\n",
       "0                  939.0            21%     99/100%                    3.0   \n",
       "1                 2787.0            24%      89/92%                    5.0   \n",
       "2                 1985.0            23%      93/93%                    8.0   \n",
       "3                 1479.0            24%      94/98%                    8.0   \n",
       "4                 1618.0            18%      94/92%                    9.0   \n",
       "\n",
       "  4-year Grad. Rate 6-year Grad. Rate  Quality Rank Total Costs  \\\n",
       "0               71%               85%          10.0    $32,682    \n",
       "1               68%               89%          19.0    $28,350    \n",
       "2               89%               94%           1.0    $36,550    \n",
       "3               86%               92%           4.0    $38,676    \n",
       "4               84%               94%           5.0    $38,492    \n",
       "\n",
       "  Cost After Need-based Aid Need Met Aid From Grants  \\\n",
       "0                  $10,981      100%             93%   \n",
       "1                  $14,779      100%             88%   \n",
       "2                  $14,737      100%             89%   \n",
       "3                  $17,386      100%             85%   \n",
       "4                  $14,453      100%             92%   \n",
       "\n",
       "  Cost After Non-Need-Based Aid Non-Need-Based Aid+ Average Debt  Cost Rank  \n",
       "0                      $18,553                  15%     $10,244         4.0  \n",
       "1                      $22,418                  34%     $12,705         5.0  \n",
       "2                      $33,251                  NaN     $12,316        26.0  \n",
       "3                      $11,404                   2%     $12,759        21.0  \n",
       "4                      $33,411                  NaN     $11,544        38.0  "
      ]
     },
     "execution_count": 5,
     "metadata": {},
     "output_type": "execute_result"
    }
   ],
   "source": [
    "data.head()"
   ]
  },
  {
   "cell_type": "code",
   "execution_count": 6,
   "metadata": {},
   "outputs": [
    {
     "data": {
      "text/plain": [
       "Overall Rank                     float64\n",
       "School                            object\n",
       "State                             object\n",
       "Undergrad. Enrollment            float64\n",
       "Admission Rate                    object\n",
       "*SAT or ACT                       object\n",
       "Student/faculty Ratio            float64\n",
       "4-year Grad. Rate                 object\n",
       "6-year Grad. Rate                 object\n",
       "Quality Rank                     float64\n",
       "Total Costs                       object\n",
       "Cost After Need-based Aid         object\n",
       "Need Met                          object\n",
       "Aid From Grants                   object\n",
       "Cost After Non-Need-Based Aid     object\n",
       "Non-Need-Based Aid+               object\n",
       "Average Debt                      object\n",
       "Cost Rank                        float64\n",
       "dtype: object"
      ]
     },
     "execution_count": 6,
     "metadata": {},
     "output_type": "execute_result"
    }
   ],
   "source": [
    "data.dtypes"
   ]
  },
  {
   "cell_type": "markdown",
   "metadata": {},
   "source": [
    "## Questions\n",
    "### List the top 10 quality ranked colleges"
   ]
  },
  {
   "cell_type": "code",
   "execution_count": 7,
   "metadata": {},
   "outputs": [
    {
     "data": {
      "text/plain": [
       "dtype('float64')"
      ]
     },
     "execution_count": 7,
     "metadata": {},
     "output_type": "execute_result"
    }
   ],
   "source": [
    "quality_ranks = data['Quality Rank']\n",
    "quality_ranks.dtypes"
   ]
  },
  {
   "cell_type": "code",
   "execution_count": 8,
   "metadata": {},
   "outputs": [],
   "source": [
    "quality_ranks = quality_ranks.sort_values()"
   ]
  },
  {
   "cell_type": "code",
   "execution_count": 9,
   "metadata": {},
   "outputs": [],
   "source": [
    "sorted_idxs = quality_ranks.keys()[:10]"
   ]
  },
  {
   "cell_type": "code",
   "execution_count": 10,
   "metadata": {},
   "outputs": [],
   "source": [
    "colleges = data['School']\n",
    "top_10_colleges = colleges[sorted_idxs]"
   ]
  },
  {
   "cell_type": "code",
   "execution_count": 11,
   "metadata": {},
   "outputs": [
    {
     "name": "stdout",
     "output_type": "stream",
     "text": [
      "Rank\t College\n",
      "1 \t Williams College\n",
      "2 \t Massachusetts Institute of Technology\n",
      "3 \t Yale University\n",
      "4 \t Swarthmore College\n",
      "5 \t Amherst College\n",
      "6 \t Stanford University\n",
      "7 \t Princeton University\n",
      "8 \t Harvard University\n",
      "9 \t University of Pennsylvania\n",
      "10 \t California Institute of Technology\n"
     ]
    }
   ],
   "source": [
    "print('Rank\\t College')\n",
    "for rank, college in enumerate(top_10_colleges):\n",
    "    print(rank+1,\"\\t\", college)"
   ]
  },
  {
   "cell_type": "markdown",
   "metadata": {},
   "source": [
    "### List all the colleges in California"
   ]
  },
  {
   "cell_type": "code",
   "execution_count": 12,
   "metadata": {},
   "outputs": [],
   "source": [
    "california_colleges = data['School'].loc[data['State'] == \"CA\"]"
   ]
  },
  {
   "cell_type": "code",
   "execution_count": 13,
   "metadata": {},
   "outputs": [
    {
     "name": "stdout",
     "output_type": "stream",
     "text": [
      "California Institute of Technology\n",
      "Stanford University\n",
      "Pomona College\n",
      "Claremont McKenna College\n",
      "Harvey Mudd College\n",
      "University of Southern California\n",
      "Scripps College\n"
     ]
    }
   ],
   "source": [
    "for college in california_colleges:\n",
    "    print(college)"
   ]
  },
  {
   "cell_type": "markdown",
   "metadata": {},
   "source": [
    "### Which college has lowest average debt?"
   ]
  },
  {
   "cell_type": "code",
   "execution_count": 14,
   "metadata": {},
   "outputs": [
    {
     "data": {
      "text/plain": [
       "dtype('O')"
      ]
     },
     "execution_count": 14,
     "metadata": {},
     "output_type": "execute_result"
    }
   ],
   "source": [
    "average_debt = data['Average Debt'].dropna()\n",
    "average_debt.dtypes"
   ]
  },
  {
   "cell_type": "code",
   "execution_count": 15,
   "metadata": {},
   "outputs": [
    {
     "data": {
      "text/plain": [
       "0    $10,244 \n",
       "1    $12,705 \n",
       "2    $12,316 \n",
       "3    $12,759 \n",
       "4    $11,544 \n",
       "Name: Average Debt, dtype: object"
      ]
     },
     "execution_count": 15,
     "metadata": {},
     "output_type": "execute_result"
    }
   ],
   "source": [
    "average_debt.head()"
   ]
  },
  {
   "cell_type": "code",
   "execution_count": 16,
   "metadata": {},
   "outputs": [],
   "source": [
    "# Removing $ and , signs\n",
    "average_debt = average_debt.str.replace(',', '')\n",
    "average_debt = average_debt.str.replace('$', '')\n",
    "average_debt = average_debt.astype(int)"
   ]
  },
  {
   "cell_type": "code",
   "execution_count": 17,
   "metadata": {},
   "outputs": [
    {
     "name": "stdout",
     "output_type": "stream",
     "text": [
      "0\n"
     ]
    }
   ],
   "source": [
    "min_debt = min(average_debt)\n",
    "idxs = []\n",
    "for idx, val in enumerate(average_debt):\n",
    "    if val == min_debt:\n",
    "        idxs.append(idx)\n",
    "print(min_debt)"
   ]
  },
  {
   "cell_type": "code",
   "execution_count": 18,
   "metadata": {},
   "outputs": [],
   "source": [
    "min_debt_schools = data['School'].loc[idxs]"
   ]
  },
  {
   "cell_type": "code",
   "execution_count": 19,
   "metadata": {},
   "outputs": [
    {
     "name": "stdout",
     "output_type": "stream",
     "text": [
      "Washington University\n",
      "Dartmouth College\n",
      "Macalester College\n",
      "Brandeis University\n",
      "Bryn Mawr College\n",
      "Trinity University\n",
      "University of Rochester\n",
      "Babson College\n",
      "The George Washington University\n"
     ]
    }
   ],
   "source": [
    "for school in min_debt_schools:\n",
    "    print(school)"
   ]
  },
  {
   "cell_type": "markdown",
   "metadata": {},
   "source": [
    "### List bottom 10 cost rank colleges"
   ]
  },
  {
   "cell_type": "code",
   "execution_count": 20,
   "metadata": {},
   "outputs": [
    {
     "data": {
      "text/plain": [
       "dtype('float64')"
      ]
     },
     "execution_count": 20,
     "metadata": {},
     "output_type": "execute_result"
    }
   ],
   "source": [
    "cost_ranks = data['Cost Rank'].dropna()\n",
    "cost_ranks.dtypes"
   ]
  },
  {
   "cell_type": "code",
   "execution_count": 21,
   "metadata": {},
   "outputs": [],
   "source": [
    "cost_ranks = cost_ranks.sort_values(ascending=False)"
   ]
  },
  {
   "cell_type": "code",
   "execution_count": 22,
   "metadata": {},
   "outputs": [],
   "source": [
    "sorted_idxs = cost_ranks.keys()[:10]"
   ]
  },
  {
   "cell_type": "code",
   "execution_count": 23,
   "metadata": {},
   "outputs": [],
   "source": [
    "colleges = data[['School', 'Cost Rank']]\n",
    "bottom_10_colleges = colleges.loc[sorted_idxs]"
   ]
  },
  {
   "cell_type": "code",
   "execution_count": 24,
   "metadata": {},
   "outputs": [
    {
     "name": "stdout",
     "output_type": "stream",
     "text": [
      "                              School  Cost Rank\n",
      "90               New York University      100.0\n",
      "41               Wesleyan University       99.0\n",
      "36                Middlebury College       98.0\n",
      "32             Georgetown University       97.0\n",
      "99  The George Washington University       96.0\n",
      "40                Cornell University       95.0\n",
      "97  Rensselaer Polytechnic Institute       94.0\n",
      "22        University of Pennsylvania       93.0\n",
      "26                 Dartmouth College       92.0\n",
      "33                  Brown University       91.0\n"
     ]
    }
   ],
   "source": [
    "print(bottom_10_colleges)"
   ]
  },
  {
   "cell_type": "markdown",
   "metadata": {},
   "source": [
    "### Among colleges having more than 2000 undergraduates, which has highest faculty/student ratio."
   ]
  },
  {
   "cell_type": "code",
   "execution_count": 25,
   "metadata": {},
   "outputs": [
    {
     "data": {
      "text/plain": [
       "School                    object\n",
       "Student/faculty Ratio    float64\n",
       "dtype: object"
      ]
     },
     "execution_count": 25,
     "metadata": {},
     "output_type": "execute_result"
    }
   ],
   "source": [
    "# colleges = colleges_with_more_than_2000_ug\n",
    "colleges = data[['School' ,'Student/faculty Ratio']].loc[data[\"Undergrad. Enrollment\"] > 2000]\n",
    "colleges.dtypes"
   ]
  },
  {
   "cell_type": "code",
   "execution_count": 26,
   "metadata": {},
   "outputs": [
    {
     "name": "stdout",
     "output_type": "stream",
     "text": [
      "[ 5.  7.  8.  6. 11.  9. 12. 10. 13. 18. 17. 14.]\n"
     ]
    }
   ],
   "source": [
    "unique_vals = colleges['Student/faculty Ratio'].unique()\n",
    "print(unique_vals)"
   ]
  },
  {
   "cell_type": "code",
   "execution_count": 27,
   "metadata": {},
   "outputs": [],
   "source": [
    "ratio = min(unique_vals)"
   ]
  },
  {
   "cell_type": "code",
   "execution_count": 28,
   "metadata": {},
   "outputs": [],
   "source": [
    "req_colleges = colleges['School'].loc[colleges['Student/faculty Ratio'] == ratio]"
   ]
  },
  {
   "cell_type": "code",
   "execution_count": 29,
   "metadata": {},
   "outputs": [
    {
     "name": "stdout",
     "output_type": "stream",
     "text": [
      "Rice University\n",
      "Princeton University\n"
     ]
    }
   ],
   "source": [
    "for college in req_colleges:\n",
    "    print(college)"
   ]
  },
  {
   "cell_type": "markdown",
   "metadata": {},
   "source": [
    "### Which college has aid in grant more than 80% and costliest in total cost?"
   ]
  },
  {
   "cell_type": "code",
   "execution_count": 30,
   "metadata": {},
   "outputs": [],
   "source": [
    "# colleges = colleges with aid in grant more than 80%\n",
    "colleges = data[['School' ,'Total Costs', \"Aid From Grants\"]].loc[data[\"Aid From Grants\"] > \"80%\"]"
   ]
  },
  {
   "cell_type": "code",
   "execution_count": 31,
   "metadata": {},
   "outputs": [
    {
     "name": "stdout",
     "output_type": "stream",
     "text": [
      "                                   School Total Costs Aid From Grants\n",
      "0      California Institute of Technology    $32,682              93%\n",
      "1                         Rice University    $28,350              88%\n",
      "2                        Williams College    $36,550              89%\n",
      "3                      Swarthmore College    $38,676              85%\n",
      "4                         Amherst College    $38,492              92%\n",
      "6                         Yale University    $38,432              89%\n",
      "7           Washington and Lee University    $30,225              87%\n",
      "8                      Harvard University    $38,831              90%\n",
      "9                     Stanford University    $38,875              86%\n",
      "10                   Princeton University    $40,169              94%\n",
      "11  Massachusetts Institute of Technology    $39,213              85%\n",
      "14                    Columbia University    $39,493              86%\n",
      "16                       Davidson College    $34,706              82%\n",
      "17                      Wellesley College    $37,419              88%\n",
      "19                      Haverford College    $38,928              90%\n",
      "21                        Bowdoin College    $38,663              85%\n",
      "25                  Washington University    $39,253              81%\n",
      "27              Claremont McKenna College    $37,730              86%\n",
      "29                     Colgate University    $38,820              85%\n",
      "30                   The Colorado College    $35,275              88%\n",
      "33                       Brown University    $40,248              83%\n",
      "39                          Bates College    $38,932              85%\n",
      "42                          Colby College    $38,699              93%\n",
      "43                    Bucknell University    $36,165              94%\n",
      "44                         Kenyon College    $36,273              85%\n",
      "48                        Barnard College    $37,940              82%\n",
      "53                      Bryn Mawr College    $37,890              86%\n",
      "55                       Tufts University    $39,173              85%\n",
      "66                       Hamilton College    $38,463              85%\n",
      "67                      DePauw University    $32,150              82%\n",
      "71                        Trinity College    $38,890              85%\n",
      "81                    Connecticut College    $37,057              86%\n",
      "87                           Reed College    $37,900              90%\n",
      "88                           Bard College    $38,282              83%\n"
     ]
    }
   ],
   "source": [
    "print(colleges)"
   ]
  },
  {
   "cell_type": "code",
   "execution_count": 32,
   "metadata": {},
   "outputs": [],
   "source": [
    "# Removing $ and , signs\n",
    "colleges['Total Costs'] = colleges['Total Costs'].str.replace(',', '')\n",
    "colleges['Total Costs'] = colleges['Total Costs'].str.replace('$', '')\n",
    "colleges['Total Costs'] = colleges['Total Costs'].astype(int)"
   ]
  },
  {
   "cell_type": "code",
   "execution_count": 33,
   "metadata": {},
   "outputs": [
    {
     "name": "stdout",
     "output_type": "stream",
     "text": [
      "40248\n"
     ]
    }
   ],
   "source": [
    "max_cost = max(colleges['Total Costs'])\n",
    "print(max_cost)"
   ]
  },
  {
   "cell_type": "code",
   "execution_count": 34,
   "metadata": {},
   "outputs": [],
   "source": [
    "req_colleges = colleges.loc[colleges['Total Costs'] == max_cost]"
   ]
  },
  {
   "cell_type": "code",
   "execution_count": 35,
   "metadata": {},
   "outputs": [
    {
     "name": "stdout",
     "output_type": "stream",
     "text": [
      "              School  Total Costs Aid From Grants\n",
      "33  Brown University        40248             83%\n"
     ]
    }
   ],
   "source": [
    "print(req_colleges)"
   ]
  },
  {
   "cell_type": "markdown",
   "metadata": {},
   "source": [
    "### Among top 50 quality rank colleges, which has lowest total cost"
   ]
  },
  {
   "cell_type": "code",
   "execution_count": 36,
   "metadata": {},
   "outputs": [],
   "source": [
    "# colleges = top 50 quality ranked colleges\n",
    "colleges = data[['School' ,'Total Costs', \"Quality Rank\"]].loc[data[\"Quality Rank\"] <= 50]"
   ]
  },
  {
   "cell_type": "code",
   "execution_count": 37,
   "metadata": {},
   "outputs": [
    {
     "name": "stdout",
     "output_type": "stream",
     "text": [
      "                                   School Total Costs  Quality Rank\n",
      "0      California Institute of Technology    $32,682           10.0\n",
      "1                         Rice University    $28,350           19.0\n",
      "2                        Williams College    $36,550            1.0\n",
      "3                      Swarthmore College    $38,676            4.0\n",
      "4                         Amherst College    $38,492            5.0\n",
      "5                          Webb Institute     $8,079           39.0\n",
      "6                         Yale University    $38,432            3.0\n",
      "7           Washington and Lee University    $30,225           30.0\n",
      "8                      Harvard University    $38,831            8.0\n",
      "9                     Stanford University    $38,875            6.0\n",
      "10                   Princeton University    $40,169            7.0\n",
      "11  Massachusetts Institute of Technology    $39,213            2.0\n",
      "12                         Pomona College    $38,130           21.0\n",
      "13                       Emory University    $37,272           15.0\n",
      "14                    Columbia University    $39,493           13.0\n",
      "15                        Duke University    $40,080           11.0\n",
      "16                       Davidson College    $34,706           27.0\n",
      "17                      Wellesley College    $37,419           32.0\n",
      "18                         Vassar College    $37,870           22.0\n",
      "19                      Haverford College    $38,928           20.0\n",
      "20                Northwestern University    $38,817           17.0\n",
      "21                        Bowdoin College    $38,663           25.0\n",
      "22             University of Pennsylvania    $39,040            9.0\n",
      "23               Johns Hopkins University    $39,188           29.0\n",
      "25                  Washington University    $39,253           16.0\n",
      "26                      Dartmouth College    $38,898           12.0\n",
      "27              Claremont McKenna College    $37,730           37.0\n",
      "28               University of Notre Dame    $35,392           36.0\n",
      "29                     Colgate University    $38,820           31.0\n",
      "31                 University of Richmond    $31,679           48.0\n",
      "32                  Georgetown University    $39,182           14.0\n",
      "33                       Brown University    $40,248           23.0\n",
      "34                       Carleton College    $35,288           34.0\n",
      "35                      Lafayette College    $35,713           47.0\n",
      "36                     Middlebury College    $39,532           18.0\n",
      "38           Illinois Wesleyan University    $30,780           44.0\n",
      "39                          Bates College    $38,932           28.0\n",
      "40                     Cornell University    $38,974           26.0\n",
      "41                    Wesleyan University    $39,127           24.0\n",
      "42                          Colby College    $38,699           33.0\n",
      "43                    Bucknell University    $36,165           43.0\n",
      "48                        Barnard College    $37,940           46.0\n",
      "49                    Brandeis University    $39,101           38.0\n",
      "50              College of the Holy Cross    $36,851           41.0\n",
      "51                    Harvey Mudd College    $38,880           35.0\n",
      "52                 Wake Forest University    $36,079           42.0\n",
      "53                      Bryn Mawr College    $37,890           45.0\n",
      "55                       Tufts University    $39,173           40.0\n",
      "56                        Oberlin College    $37,688           50.0\n",
      "57                  Mount Holyoke College    $38,668           49.0\n"
     ]
    }
   ],
   "source": [
    "print(colleges)"
   ]
  },
  {
   "cell_type": "code",
   "execution_count": 38,
   "metadata": {},
   "outputs": [],
   "source": [
    "# Removing $ and , signs\n",
    "colleges['Total Costs'] = colleges['Total Costs'].str.replace(',', '')\n",
    "colleges['Total Costs'] = colleges['Total Costs'].str.replace('$', '')\n",
    "colleges['Total Costs'] = colleges['Total Costs'].astype(int)"
   ]
  },
  {
   "cell_type": "code",
   "execution_count": 39,
   "metadata": {},
   "outputs": [],
   "source": [
    "min_cost = min(colleges['Total Costs'])"
   ]
  },
  {
   "cell_type": "code",
   "execution_count": 40,
   "metadata": {},
   "outputs": [],
   "source": [
    "req_colleges = colleges.loc[colleges['Total Costs'] == min_cost]"
   ]
  },
  {
   "cell_type": "code",
   "execution_count": 41,
   "metadata": {},
   "outputs": [
    {
     "name": "stdout",
     "output_type": "stream",
     "text": [
      "           School  Total Costs  Quality Rank\n",
      "5  Webb Institute         8079          39.0\n"
     ]
    }
   ],
   "source": [
    "print(req_colleges)"
   ]
  }
 ],
 "metadata": {
  "kernelspec": {
   "display_name": "Python 3",
   "language": "python",
   "name": "python3"
  },
  "language_info": {
   "codemirror_mode": {
    "name": "ipython",
    "version": 3
   },
   "file_extension": ".py",
   "mimetype": "text/x-python",
   "name": "python",
   "nbconvert_exporter": "python",
   "pygments_lexer": "ipython3",
   "version": "3.7.1"
  }
 },
 "nbformat": 4,
 "nbformat_minor": 2
}
