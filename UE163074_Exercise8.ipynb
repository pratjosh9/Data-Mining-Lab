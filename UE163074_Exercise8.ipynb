{
 "cells": [
  {
   "cell_type": "markdown",
   "metadata": {},
   "source": [
    "# Pandas Exercise\n",
    "## Required Imports"
   ]
  },
  {
   "cell_type": "code",
   "execution_count": 1,
   "metadata": {},
   "outputs": [],
   "source": [
    "import numpy as np\n",
    "import pandas as pd\n",
    "import math"
   ]
  },
  {
   "cell_type": "markdown",
   "metadata": {},
   "source": [
    "## Data Loading"
   ]
  },
  {
   "cell_type": "code",
   "execution_count": 2,
   "metadata": {},
   "outputs": [],
   "source": [
    "file_path = \"data/Top 100 Private Colleges.2003.csv\""
   ]
  },
  {
   "cell_type": "code",
   "execution_count": 3,
   "metadata": {},
   "outputs": [
    {
     "name": "stdout",
     "output_type": "stream",
     "text": [
      "'Online Retail.csv'  'Top 100 Private Colleges.2003.csv'\r\n"
     ]
    }
   ],
   "source": [
    "!ls data/"
   ]
  },
  {
   "cell_type": "code",
   "execution_count": 4,
   "metadata": {},
   "outputs": [],
   "source": [
    "data = pd.read_csv(file_path)"
   ]
  },
  {
   "cell_type": "code",
   "execution_count": 5,
   "metadata": {
    "scrolled": true
   },
   "outputs": [
    {
     "data": {
      "text/html": [
       "<div>\n",
       "<style scoped>\n",
       "    .dataframe tbody tr th:only-of-type {\n",
       "        vertical-align: middle;\n",
       "    }\n",
       "\n",
       "    .dataframe tbody tr th {\n",
       "        vertical-align: top;\n",
       "    }\n",
       "\n",
       "    .dataframe thead th {\n",
       "        text-align: right;\n",
       "    }\n",
       "</style>\n",
       "<table border=\"1\" class=\"dataframe\">\n",
       "  <thead>\n",
       "    <tr style=\"text-align: right;\">\n",
       "      <th></th>\n",
       "      <th>Overall Rank</th>\n",
       "      <th>School</th>\n",
       "      <th>State</th>\n",
       "      <th>Undergrad. Enrollment</th>\n",
       "      <th>Admission Rate</th>\n",
       "      <th>*SAT or ACT</th>\n",
       "      <th>Student/faculty Ratio</th>\n",
       "      <th>4-year Grad. Rate</th>\n",
       "      <th>6-year Grad. Rate</th>\n",
       "      <th>Quality Rank</th>\n",
       "      <th>Total Costs</th>\n",
       "      <th>Cost After Need-based Aid</th>\n",
       "      <th>Need Met</th>\n",
       "      <th>Aid From Grants</th>\n",
       "      <th>Cost After Non-Need-Based Aid</th>\n",
       "      <th>Non-Need-Based Aid+</th>\n",
       "      <th>Average Debt</th>\n",
       "      <th>Cost Rank</th>\n",
       "    </tr>\n",
       "  </thead>\n",
       "  <tbody>\n",
       "    <tr>\n",
       "      <th>0</th>\n",
       "      <td>1.0</td>\n",
       "      <td>California Institute of Technology</td>\n",
       "      <td>CA</td>\n",
       "      <td>939.0</td>\n",
       "      <td>21%</td>\n",
       "      <td>99/100%</td>\n",
       "      <td>3.0</td>\n",
       "      <td>71%</td>\n",
       "      <td>85%</td>\n",
       "      <td>10.0</td>\n",
       "      <td>$32,682</td>\n",
       "      <td>$10,981</td>\n",
       "      <td>100%</td>\n",
       "      <td>93%</td>\n",
       "      <td>$18,553</td>\n",
       "      <td>15%</td>\n",
       "      <td>$10,244</td>\n",
       "      <td>4.0</td>\n",
       "    </tr>\n",
       "    <tr>\n",
       "      <th>1</th>\n",
       "      <td>2.0</td>\n",
       "      <td>Rice University</td>\n",
       "      <td>TX</td>\n",
       "      <td>2787.0</td>\n",
       "      <td>24%</td>\n",
       "      <td>89/92%</td>\n",
       "      <td>5.0</td>\n",
       "      <td>68%</td>\n",
       "      <td>89%</td>\n",
       "      <td>19.0</td>\n",
       "      <td>$28,350</td>\n",
       "      <td>$14,779</td>\n",
       "      <td>100%</td>\n",
       "      <td>88%</td>\n",
       "      <td>$22,418</td>\n",
       "      <td>34%</td>\n",
       "      <td>$12,705</td>\n",
       "      <td>5.0</td>\n",
       "    </tr>\n",
       "    <tr>\n",
       "      <th>2</th>\n",
       "      <td>3.0</td>\n",
       "      <td>Williams College</td>\n",
       "      <td>MA</td>\n",
       "      <td>1985.0</td>\n",
       "      <td>23%</td>\n",
       "      <td>93/93%</td>\n",
       "      <td>8.0</td>\n",
       "      <td>89%</td>\n",
       "      <td>94%</td>\n",
       "      <td>1.0</td>\n",
       "      <td>$36,550</td>\n",
       "      <td>$14,737</td>\n",
       "      <td>100%</td>\n",
       "      <td>89%</td>\n",
       "      <td>$33,251</td>\n",
       "      <td>NaN</td>\n",
       "      <td>$12,316</td>\n",
       "      <td>26.0</td>\n",
       "    </tr>\n",
       "    <tr>\n",
       "      <th>3</th>\n",
       "      <td>4.0</td>\n",
       "      <td>Swarthmore College</td>\n",
       "      <td>PA</td>\n",
       "      <td>1479.0</td>\n",
       "      <td>24%</td>\n",
       "      <td>94/98%</td>\n",
       "      <td>8.0</td>\n",
       "      <td>86%</td>\n",
       "      <td>92%</td>\n",
       "      <td>4.0</td>\n",
       "      <td>$38,676</td>\n",
       "      <td>$17,386</td>\n",
       "      <td>100%</td>\n",
       "      <td>85%</td>\n",
       "      <td>$11,404</td>\n",
       "      <td>2%</td>\n",
       "      <td>$12,759</td>\n",
       "      <td>21.0</td>\n",
       "    </tr>\n",
       "    <tr>\n",
       "      <th>4</th>\n",
       "      <td>5.0</td>\n",
       "      <td>Amherst College</td>\n",
       "      <td>MA</td>\n",
       "      <td>1618.0</td>\n",
       "      <td>18%</td>\n",
       "      <td>94/92%</td>\n",
       "      <td>9.0</td>\n",
       "      <td>84%</td>\n",
       "      <td>94%</td>\n",
       "      <td>5.0</td>\n",
       "      <td>$38,492</td>\n",
       "      <td>$14,453</td>\n",
       "      <td>100%</td>\n",
       "      <td>92%</td>\n",
       "      <td>$33,411</td>\n",
       "      <td>NaN</td>\n",
       "      <td>$11,544</td>\n",
       "      <td>38.0</td>\n",
       "    </tr>\n",
       "  </tbody>\n",
       "</table>\n",
       "</div>"
      ],
      "text/plain": [
       "   Overall Rank                              School State  \\\n",
       "0           1.0  California Institute of Technology    CA   \n",
       "1           2.0                     Rice University    TX   \n",
       "2           3.0                    Williams College    MA   \n",
       "3           4.0                  Swarthmore College    PA   \n",
       "4           5.0                     Amherst College    MA   \n",
       "\n",
       "   Undergrad. Enrollment Admission Rate *SAT or ACT  Student/faculty Ratio  \\\n",
       "0                  939.0            21%     99/100%                    3.0   \n",
       "1                 2787.0            24%      89/92%                    5.0   \n",
       "2                 1985.0            23%      93/93%                    8.0   \n",
       "3                 1479.0            24%      94/98%                    8.0   \n",
       "4                 1618.0            18%      94/92%                    9.0   \n",
       "\n",
       "  4-year Grad. Rate 6-year Grad. Rate  Quality Rank Total Costs  \\\n",
       "0               71%               85%          10.0    $32,682    \n",
       "1               68%               89%          19.0    $28,350    \n",
       "2               89%               94%           1.0    $36,550    \n",
       "3               86%               92%           4.0    $38,676    \n",
       "4               84%               94%           5.0    $38,492    \n",
       "\n",
       "  Cost After Need-based Aid Need Met Aid From Grants  \\\n",
       "0                  $10,981      100%             93%   \n",
       "1                  $14,779      100%             88%   \n",
       "2                  $14,737      100%             89%   \n",
       "3                  $17,386      100%             85%   \n",
       "4                  $14,453      100%             92%   \n",
       "\n",
       "  Cost After Non-Need-Based Aid Non-Need-Based Aid+ Average Debt  Cost Rank  \n",
       "0                      $18,553                  15%     $10,244         4.0  \n",
       "1                      $22,418                  34%     $12,705         5.0  \n",
       "2                      $33,251                  NaN     $12,316        26.0  \n",
       "3                      $11,404                   2%     $12,759        21.0  \n",
       "4                      $33,411                  NaN     $11,544        38.0  "
      ]
     },
     "execution_count": 5,
     "metadata": {},
     "output_type": "execute_result"
    }
   ],
   "source": [
    "data.head()"
   ]
  },
  {
   "cell_type": "code",
   "execution_count": 6,
   "metadata": {},
   "outputs": [
    {
     "data": {
      "text/plain": [
       "Overall Rank                     float64\n",
       "School                            object\n",
       "State                             object\n",
       "Undergrad. Enrollment            float64\n",
       "Admission Rate                    object\n",
       "*SAT or ACT                       object\n",
       "Student/faculty Ratio            float64\n",
       "4-year Grad. Rate                 object\n",
       "6-year Grad. Rate                 object\n",
       "Quality Rank                     float64\n",
       "Total Costs                       object\n",
       "Cost After Need-based Aid         object\n",
       "Need Met                          object\n",
       "Aid From Grants                   object\n",
       "Cost After Non-Need-Based Aid     object\n",
       "Non-Need-Based Aid+               object\n",
       "Average Debt                      object\n",
       "Cost Rank                        float64\n",
       "dtype: object"
      ]
     },
     "execution_count": 6,
     "metadata": {},
     "output_type": "execute_result"
    }
   ],
   "source": [
    "data.dtypes"
   ]
  },
  {
   "cell_type": "code",
   "execution_count": 7,
   "metadata": {},
   "outputs": [
    {
     "data": {
      "text/plain": [
       "Index(['Overall Rank', 'School', 'State', 'Undergrad. Enrollment',\n",
       "       'Admission Rate', '*SAT or ACT', 'Student/faculty Ratio',\n",
       "       '4-year Grad. Rate', '6-year Grad. Rate', 'Quality Rank', 'Total Costs',\n",
       "       'Cost After Need-based Aid', 'Need Met', 'Aid From Grants',\n",
       "       'Cost After Non-Need-Based Aid', 'Non-Need-Based Aid+', 'Average Debt',\n",
       "       'Cost Rank'],\n",
       "      dtype='object')"
      ]
     },
     "execution_count": 7,
     "metadata": {},
     "output_type": "execute_result"
    }
   ],
   "source": [
    "data.columns"
   ]
  },
  {
   "cell_type": "markdown",
   "metadata": {},
   "source": [
    "## Data Cleaning"
   ]
  },
  {
   "cell_type": "markdown",
   "metadata": {},
   "source": [
    "### Removing NaNs"
   ]
  },
  {
   "cell_type": "code",
   "execution_count": 8,
   "metadata": {},
   "outputs": [],
   "source": [
    "def get_nan_indices(df, col_name):\n",
    "    all_idxs = set(range(len(df.index)))\n",
    "    filled_idxs = set(df[col_name].dropna().index.tolist())\n",
    "    return all_idxs - filled_idxs"
   ]
  },
  {
   "cell_type": "code",
   "execution_count": 9,
   "metadata": {},
   "outputs": [
    {
     "name": "stdout",
     "output_type": "stream",
     "text": [
      "{2, 4, 6, 8, 9, 10, 11, 12, 14, 17, 18, 19, 81, 22, 87, 26, 29, 32, 33, 98, 100, 101, 36, 39, 40, 41, 42, 43, 53}\n"
     ]
    }
   ],
   "source": [
    "nan_idxs = set()\n",
    "for column in data.columns:\n",
    "    nan_idxs = nan_idxs.union(get_nan_indices(data, column))\n",
    "print(nan_idxs)"
   ]
  },
  {
   "cell_type": "code",
   "execution_count": 10,
   "metadata": {},
   "outputs": [],
   "source": [
    "clean_data_frame = data.copy()\n",
    "clean_data_frame.drop(clean_data_frame.index[list(nan_idxs)], inplace=True)"
   ]
  },
  {
   "cell_type": "markdown",
   "metadata": {},
   "source": [
    "### Further Cleaning"
   ]
  },
  {
   "cell_type": "code",
   "execution_count": 11,
   "metadata": {},
   "outputs": [
    {
     "name": "stdout",
     "output_type": "stream",
     "text": [
      "Overall Rank\n",
      "{1.0, 2.0, 4.0, 6.0, 8.0, 14.0, 16.0, 17.0, 21.0, 22.0, 24.0, 25.0, 26.0, 28.0, 29.0, 31.0, 32.0, 35.0, 36.0, 38.0, 39.0, 45.0, 46.0, 47.0, 48.0, 49.0, 50.0, 51.0, 52.0, 53.0, 54.0, 55.0, 56.0, 57.0, 58.0, 59.0, 60.0, 61.0, 62.0, 63.0, 64.0, 65.0, 66.0, 67.0, 68.0, 69.0, 70.0, 71.0, 72.0, 73.0, 74.0, 75.0, 76.0, 77.0, 78.0, 79.0, 80.0, 82.0, 84.0, 85.0, 86.0, 87.0, 89.0, 90.0, 91.0, 92.0, 93.0, 94.0, 95.0, 96.0, 97.0, 98.0, 100.0}\n",
      "\n",
      "School\n",
      "{'Wake Forest University', 'California Institute of Technology', 'Vanderbilt University', 'Brigham Young University', 'Boston College', 'The George Washington University', 'Skidmore College', 'Hamilton College', 'Davidson College', 'Taylor University', 'Lawrence University', 'Dickinson College', \"St. John's College\", 'Furman University', \"Saint John's University\", 'Rhode Island School of Design', 'Grinnell College', 'St. Olaf College', 'Mount Holyoke College', 'Union College', 'New York University', 'Webb Institute', 'Emory University', 'College of the Holy Cross', 'DePauw University', 'Knox College', 'Illinois Wesleyan University', 'Washington University', 'Rhodes College', 'University of Southern California', 'Whitman College', 'Lafayette College', 'Duke University', 'Franklin and Marshall College', 'Barnard College', 'Wheaton College', 'Kenyon College', 'University of Rochester', 'Gustavus Adolphus College', 'Saint Louis University', 'Scripps College', 'Northwestern University', 'Rice University', 'Macalester College', 'Centre College', 'Washington and Lee University', 'Harvey Mudd College', 'Kalamazoo College', 'Smith College', 'The Colorado College', 'Beloit College', 'Babson College', 'Brandeis University', 'Case Western Reserve University', 'Bard College', 'Trinity University', 'Cooper Union', 'Claremont McKenna College', 'Villanova University', 'Trinity College', 'University of Richmond', 'Oberlin College', 'Johns Hopkins University', 'Carleton College', 'Rose-Hulman Institute of Technology', 'Carnegie Mellon University', 'Swarthmore College', 'Bowdoin College', 'Rensselaer Polytechnic Institute', 'Tufts University', 'University of Notre Dame', 'Lehigh University', 'Hillsdale College'}\n",
      "\n",
      "State\n",
      "{'WA', 'CT', 'TN', 'SC', 'MI', 'DC', 'VA', 'MA', 'OH', 'RI', 'MD', 'NY', 'ME', 'CA', 'KY', 'MO', 'IL', 'WI', 'NC', 'IN', 'CO', 'MN', 'IA', 'UT', 'TX', 'GA', 'PA'}\n",
      "\n",
      "Undergrad. Enrollment\n",
      "{1024.0, 1281.0, 6146.0, 3457.0, 1541.0, 1926.0, 7946.0, 7178.0, 1932.0, 2191.0, 4112.0, 16145.0, 5139.0, 917.0, 6302.0, 1055.0, 2848.0, 798.0, 2338.0, 19490.0, 2297.0, 1576.0, 9000.0, 939.0, 4910.0, 1454.0, 1840.0, 2098.0, 7219.0, 2998.0, 2107.0, 699.0, 1851.0, 6206.0, 67.0, 29379.0, 8261.0, 1220.0, 1479.0, 1735.0, 2506.0, 1485.0, 4045.0, 1869.0, 7375.0, 465.0, 2772.0, 2261.0, 1750.0, 2647.0, 4695.0, 10328.0, 1882.0, 2395.0, 3041.0, 4706.0, 2787.0, 2147.0, 1121.0, 2406.0, 5475.0, 2536.0, 1897.0, 1642.0, 1645.0, 1902.0, 1389.0, 3057.0, 2801.0, 1265.0, 1657.0, 2300.0}\n",
      "\n",
      "Admission Rate\n",
      "{'35%', '33%', '30%', '87%', '62%', '71%', '45%', '61%', '32%', '14%', '70%', '78%', '37%', '51%', '40%', '53%', '58%', '42%', '36%', '46%', '47%', '34%', '31%', '25%', '68%', '28%', '41%', '82%', '44%', '69%', '38%', '52%', '27%', '72%', '48%', '50%', '24%', '73%', '43%', '65%', '21%', '77%', '54%'}\n",
      "\n",
      "*SAT or ACT\n",
      "{'96%', '95%', '83/90%', '62/71%', '89/89%', '87/80%', '75/95%', '71/80%', '83/91%', '50/77%', '66/70%', '74/85%', '55/60%', '79/91%', '65/70%', '83%', '87/88%', '88/88%', '84/83%', '77/82%', '70%', '85/67%', '93/98%', '59/85%', '49/55%', '70/69%', '74%', '87/81%', '97/100%', '89/92%', '79/87%', '65/64%', '84%', '91/94%', '79/86%', '86%', '81/83%', '99/100%', '74/83%', '78/85%', '85/93%', '87/92%', '87/86%', '82%', '95/75%', '80/70%', '62/91%', '87/85%', '81/90%', '100/100%', '68/72%', '85/78%', '91%', '72%', '88/92%', '86/89%', '66%', '72/66%', '57/74%', '68/92%', '89%', '71/76%', '88/89%', '56/71%', '73/79%', '63/78%', '89/94%', '80/81%', '94/98%', '89/95%'}\n",
      "\n",
      "Student/faculty Ratio\n",
      "{3.0, 5.0, 7.0, 8.0, 9.0, 10.0, 11.0, 12.0, 13.0, 14.0, 15.0, 17.0, 18.0}\n",
      "\n",
      "4-year Grad. Rate\n",
      "{'49%', '71%', '62%', '81%', '83%', '60%', '61%', '70%', '59%', '78%', '51%', '76%', '74%', '53%', '58%', '31%', '68%', '75%', '86%', '88%', '0%', '80%', '82%', '63%', '57%', '67%', '52%', '72%', '79%', '48%', '89%', '65%', '77%'}\n",
      "\n",
      "6-year Grad. Rate\n",
      "{'95%', '87%', '71%', '81%', '83%', '85%', '92%', '78%', '93%', '76%', '74%', '84%', '75%', '68%', '86%', '88%', '80%', '67%', '69%', '91%', '72%', '79%', '89%', '73%', '77%', '90%'}\n",
      "\n",
      "Quality Rank\n",
      "{4.0, 10.0, 11.0, 15.0, 16.0, 17.0, 19.0, 25.0, 27.0, 29.0, 30.0, 34.0, 35.0, 36.0, 37.0, 38.0, 39.0, 40.0, 41.0, 42.0, 44.0, 46.0, 47.0, 48.0, 49.0, 50.0, 51.0, 52.0, 53.0, 54.0, 55.0, 56.0, 57.0, 58.0, 59.0, 60.0, 61.0, 63.0, 64.0, 65.0, 66.0, 67.0, 68.0, 69.0, 70.0, 71.0, 72.0, 73.0, 74.0, 75.0, 76.0, 77.0, 78.0, 79.0, 80.0, 81.0, 82.0, 83.0, 84.0, 86.0, 87.0, 88.0, 89.0, 90.0, 91.0, 92.0, 93.0, 95.0, 96.0, 97.0, 98.0, 99.0, 100.0}\n",
      "\n",
      "Total Costs\n",
      "{'$32,682 ', '$23,353 ', '$38,847 ', '$29,879 ', '$27,820 ', '$35,670 ', '$28,350 ', '$37,688 ', '$9,663 ', '$36,455 ', '$36,851 ', '$32,150 ', '$37,968 ', '$37,246 ', '$35,392 ', '$29,983 ', '$38,838 ', '$30,080 ', '$27,272 ', '$38,668 ', '$31,679 ', '$32,625 ', '$37,272 ', '$30,225 ', '$32,875 ', '$37,745 ', '$14,652 ', '$34,706 ', '$39,200 ', '$30,917 ', '$39,188 ', '$35,275 ', '$36,635 ', '$24,723 ', '$38,817 ', '$34,472 ', '$36,560 ', '$40,080 ', '$40,240 ', '$31,460 ', '$35,713 ', '$32,847 ', '$37,940 ', '$30,894 ', '$39,173 ', '$29,430 ', '$36,500 ', '$36,580 ', '$30,264 ', '$36,273 ', '$38,460 ', '$8,079 ', '$32,802 ', '$38,676 ', '$38,282 ', '$39,101 ', '$27,086 ', '$39,253 ', '$36,079 ', '$36,600 ', '$30,780 ', '$27,076 ', '$35,288 ', '$38,663 ', '$28,529 ', '$33,776 ', '$37,730 ', '$40,105 ', '$38,880 ', '$38,463 ', '$38,443 ', '$37,937 ', '$38,890 '}\n",
      "\n",
      "Cost After Need-based Aid\n",
      "{'$13,853 ', '$16,706 ', '$17,386 ', '$18,011 ', '$19,474 ', '$15,531 ', '$18,431 ', '$17,947 ', '$21,023 ', '$18,323 ', '$17,588 ', '$18,858 ', '$20,376 ', '$16,585 ', '$21,081 ', '$16,902 ', '$18,899 ', '$15,452 ', '$7,621 ', '$24,689 ', '$21,455 ', '$21,940 ', '$10,981 ', '$11,167 ', '$17,458 ', '$28,677 ', '$15,678 ', '$17,905 ', '$19,123 ', '$21,196 ', '$15,147 ', '$17,452 ', '$15,494 ', '$15,842 ', '$20,925 ', '$16,516 ', '$20,297 ', '$28,282 ', '$17,882 ', '$21,176 ', '$26,447 ', '$16,296 ', '$18,466 ', '$19,996 ', '$17,826 ', '$21,677 ', '$17,988 ', '$17,609 ', '$19,142 ', '$23,846 ', '$16,394 ', '$19,753 ', '$21,316 ', '$17,773 ', '$20,700 ', '$20,558 ', '$22,257 ', '$20,971 ', '$14,779 ', '$20,115 ', '$22,360 ', '$5,579 ', '$19,667 ', '$24,470 ', '$26,463 ', '$25,866 ', '$17,341 ', '$22,041 ', '$17,984 ', '$19,657 ', '$19,544 ', '$21,606 ', '$19,268 '}\n",
      "\n",
      "Need Met\n",
      "{'96%', '95%', '87%', '71%', '98%', '81%', '83%', '60%', '97%', '70%', '92%', '40%', '76%', '84%', '86%', '88%', '94%', '99%', '69%', '20%', '91%', '100%', '77%', 'NA%', '90%'}\n",
      "\n",
      "Aid From Grants\n",
      "{'87%', '62%', '71%', '81%', '83%', '64%', '85%', '70%', '78%', '93%', '74%', '76%', '53%', '56%', '46%', '75%', '68%', '86%', '88%', '80%', '82%', '63%', '57%', '67%', '72%', '66%', '79%', '27%', '100%', '73%', '65%', '77%'}\n",
      "\n",
      "Cost After Non-Need-Based Aid\n",
      "{'$32,160 ', '$37,477 ', '$24,255 ', '$6,523 ', '$25,660 ', '$28,368 ', '$29,638 ', '$33,390 ', '$21,193 ', '$22,063 ', '$14,653 ', '$23,231 ', '$16,853 ', '$21,467 ', '$34,477 ', '$20,538 ', '$19,002 ', '$23,095 ', '$20,230 ', '$21,687 ', '$30,308 ', '$25,776 ', '$28,411 ', '$29,438 ', '$19,645 ', '$21,296 ', '$28,381 ', '$29,161 ', '$31,570 ', '$26,304 ', '$23,690 ', '$21,977 ', '$25,952 ', '$22,678 ', '$21,227 ', '$21,714 ', '$26,683 ', '$32,968 ', '$29,916 ', '$21,813 ', '$30,581 ', '$22,418 ', '$37,663 ', '$26,599 ', '$36,538 ', '$27,245 ', '$28,720 ', '$24,206 ', '$25,254 ', '$23,312 ', '$21,355 ', '$8,079 ', '$28,630 ', '$23,338 ', '$32,890 ', '$27,438 ', '$24,751 ', '$24,515 ', '$25,183 ', '$27,419 ', '$20,907 ', '$23,049 ', '$25,093 ', '$18,553 ', '$28,306 ', '$16,455 ', '$21,205 ', '$25,050 ', '$11,404 ', '$23,615 ', '$33,701 ', '$33,222 ', '$33,355 '}\n",
      "\n",
      "Non-Need-Based Aid+\n",
      "{'35%', '23%', '33%', '10%', '30%', '81%', '45%', '60%', '9%', '1%', '12%', '14%', '4%', '92%', '7%', '8%', '40%', '22%', '76%', '53%', '58%', '42%', '15%', '36%', '11%', '34%', '31%', '25%', '68%', '82%', '55%', '2%', '17%', '67%', '19%', '26%', '38%', '20%', '27%', '72%', '66%', '13%', '5%', '100%', '48%', '50%', '24%', '65%', '39%', '6%', '54%'}\n",
      "\n",
      "Average Debt\n",
      "{'$13,854 ', '$11,000 ', '$24,769 ', '$14,500 ', '$19,656 ', '$15,100 ', '$17,741 ', '$20,219 ', '$20,619 ', '$16,063 ', '$17,000 ', '$12,759 ', '$13,697 ', '$12,941 ', '$19,911 ', '$20,753 ', '$27,000 ', '$17,380 ', '$15,634 ', '$20,025 ', '$9,250 ', '$15,000 ', '$18,311 ', '$13,600 ', '$16,972 ', '$14,481 ', '$16,115 ', '$17,400 ', '$14,989 ', '$17,722 ', '$20,680 ', '$14,543 ', '$14,300 ', '$18,806 ', '$14,942 ', '$21,830 ', '$24,590 ', '$13,926 ', '$16,732 ', '$15,864 ', '$20,000 ', '$28,217 ', '$15,307 ', '$15,400 ', '$24,023 ', '$10,244 ', '$16,920 ', '$20,850 ', '$14,551 ', '$16,856 ', '$13,500 ', '$16,914 ', '$15,117 ', '$15,725 ', '$17,675 ', '$5,700 ', '$15,499 ', '$21,125 ', '$0 ', '$21,495 ', '$25,595 ', '$19,195 ', '$14,030 ', '$15,560 ', '$14,200 ', '$17,586 ', '$12,705 '}\n",
      "\n",
      "Cost Rank\n",
      "{1.0, 2.0, 3.0, 4.0, 5.0, 6.0, 7.0, 8.0, 9.0, 10.0, 11.0, 12.0, 13.0, 14.0, 15.0, 16.0, 17.0, 18.0, 19.0, 20.0, 21.0, 22.0, 23.0, 24.0, 25.0, 27.0, 28.0, 29.0, 30.0, 31.0, 32.0, 33.0, 34.0, 36.0, 37.0, 39.0, 40.0, 41.0, 42.0, 45.0, 48.0, 49.0, 50.0, 51.0, 52.0, 54.0, 55.0, 56.0, 58.0, 60.0, 61.0, 63.0, 68.0, 69.0, 70.0, 71.0, 72.0, 73.0, 74.0, 75.0, 76.0, 78.0, 79.0, 80.0, 81.0, 83.0, 86.0, 87.0, 90.0, 94.0, 96.0, 100.0}\n",
      "\n"
     ]
    }
   ],
   "source": [
    "for column in clean_data_frame.columns:\n",
    "    print(column, set(clean_data_frame[column]), sep = \"\\n\", end=\"\\n\\n\")"
   ]
  },
  {
   "cell_type": "markdown",
   "metadata": {},
   "source": [
    "Removing NA% from Need Met column"
   ]
  },
  {
   "cell_type": "code",
   "execution_count": 12,
   "metadata": {},
   "outputs": [],
   "source": [
    "idxs = clean_data_frame.index"
   ]
  },
  {
   "cell_type": "code",
   "execution_count": 13,
   "metadata": {},
   "outputs": [
    {
     "name": "stdout",
     "output_type": "stream",
     "text": [
      "[84]\n"
     ]
    }
   ],
   "source": [
    "na_vals = (clean_data_frame['Need Met'] == \"NA%\").tolist()\n",
    "na_idxs = []\n",
    "for idx, val in zip(idxs, na_vals):\n",
    "    if val:\n",
    "        na_idxs.append(idx)\n",
    "print(na_idxs)"
   ]
  },
  {
   "cell_type": "code",
   "execution_count": 14,
   "metadata": {},
   "outputs": [],
   "source": [
    "clean_data_frame.drop(na_idxs, inplace=True)"
   ]
  },
  {
   "cell_type": "markdown",
   "metadata": {},
   "source": [
    "Splitting SAT / ACT to different columns"
   ]
  },
  {
   "cell_type": "code",
   "execution_count": 15,
   "metadata": {},
   "outputs": [
    {
     "name": "stdout",
     "output_type": "stream",
     "text": [
      "Indexes with incomplete data  [38, 45, 46, 59, 60, 63, 64, 68, 69, 73, 78, 80, 85]\n"
     ]
    }
   ],
   "source": [
    "col = clean_data_frame['*SAT or ACT']\n",
    "indx = clean_data_frame.index\n",
    "idxs = [] # indices of rows having incomplete values\n",
    "for idx, val in zip(indx, col):\n",
    "    if \"/\" not in val:\n",
    "        idxs.append(idx)\n",
    "    \n",
    "print(\"Indexes with incomplete data \", idxs)\n",
    "clean_data_frame.drop(idxs, inplace=True)"
   ]
  },
  {
   "cell_type": "code",
   "execution_count": 16,
   "metadata": {},
   "outputs": [],
   "source": [
    "#function for converting sat or act to sat data in new column\n",
    "def satconverter(x):\n",
    "    if '/' in x:\n",
    "        return float(x.split('/')[0])\n",
    "#function for converting sat or act to act data in new column\n",
    "def actconverter(x):\n",
    "    if '/' in x:\n",
    "        return float(x.split('/')[1].replace(\"%\", \"\"))"
   ]
  },
  {
   "cell_type": "code",
   "execution_count": 17,
   "metadata": {},
   "outputs": [],
   "source": [
    "clean_data_frame['SAT'] = clean_data_frame['*SAT or ACT'].apply(satconverter)\n",
    "clean_data_frame['ACT'] = clean_data_frame['*SAT or ACT'].apply(actconverter)"
   ]
  },
  {
   "cell_type": "code",
   "execution_count": 18,
   "metadata": {},
   "outputs": [],
   "source": [
    "clean_data_frame.drop('*SAT or ACT', axis=1, inplace=True)"
   ]
  },
  {
   "cell_type": "code",
   "execution_count": 19,
   "metadata": {},
   "outputs": [],
   "source": [
    "# Function for removing $ nad , signs.\n",
    "def money_str_to_int(x):\n",
    "    temp = x\n",
    "    temp = temp.replace(',', '')\n",
    "    temp = temp.replace('$', '')\n",
    "    temp = int(temp)\n",
    "    return temp"
   ]
  },
  {
   "cell_type": "code",
   "execution_count": 20,
   "metadata": {},
   "outputs": [],
   "source": [
    "# Function for removing $ nad , signs.\n",
    "def percent_str_to_int(x):\n",
    "    temp = x\n",
    "    temp = temp.replace('%', '')\n",
    "    temp = int(temp)\n",
    "    return temp"
   ]
  },
  {
   "cell_type": "code",
   "execution_count": 21,
   "metadata": {},
   "outputs": [],
   "source": [
    "money_cols = ['Total Costs', 'Cost After Need-based Aid', 'Cost After Non-Need-Based Aid', 'Average Debt']\n",
    "\n",
    "for col in money_cols:\n",
    "    clean_data_frame[col] = clean_data_frame[col].apply(money_str_to_int)"
   ]
  },
  {
   "cell_type": "code",
   "execution_count": 22,
   "metadata": {},
   "outputs": [],
   "source": [
    "percent_cols = ['Admission Rate', '4-year Grad. Rate', '6-year Grad. Rate',\n",
    "                'Need Met', 'Non-Need-Based Aid+', 'Aid From Grants']\n",
    "\n",
    "for col in percent_cols:\n",
    "    clean_data_frame[col] = clean_data_frame[col].apply(percent_str_to_int)"
   ]
  },
  {
   "cell_type": "code",
   "execution_count": 23,
   "metadata": {},
   "outputs": [
    {
     "data": {
      "text/html": [
       "<div>\n",
       "<style scoped>\n",
       "    .dataframe tbody tr th:only-of-type {\n",
       "        vertical-align: middle;\n",
       "    }\n",
       "\n",
       "    .dataframe tbody tr th {\n",
       "        vertical-align: top;\n",
       "    }\n",
       "\n",
       "    .dataframe thead th {\n",
       "        text-align: right;\n",
       "    }\n",
       "</style>\n",
       "<table border=\"1\" class=\"dataframe\">\n",
       "  <thead>\n",
       "    <tr style=\"text-align: right;\">\n",
       "      <th></th>\n",
       "      <th>Overall Rank</th>\n",
       "      <th>School</th>\n",
       "      <th>State</th>\n",
       "      <th>Undergrad. Enrollment</th>\n",
       "      <th>Admission Rate</th>\n",
       "      <th>Student/faculty Ratio</th>\n",
       "      <th>4-year Grad. Rate</th>\n",
       "      <th>6-year Grad. Rate</th>\n",
       "      <th>Quality Rank</th>\n",
       "      <th>Total Costs</th>\n",
       "      <th>Cost After Need-based Aid</th>\n",
       "      <th>Need Met</th>\n",
       "      <th>Aid From Grants</th>\n",
       "      <th>Cost After Non-Need-Based Aid</th>\n",
       "      <th>Non-Need-Based Aid+</th>\n",
       "      <th>Average Debt</th>\n",
       "      <th>Cost Rank</th>\n",
       "      <th>SAT</th>\n",
       "      <th>ACT</th>\n",
       "    </tr>\n",
       "  </thead>\n",
       "  <tbody>\n",
       "    <tr>\n",
       "      <th>0</th>\n",
       "      <td>1.0</td>\n",
       "      <td>California Institute of Technology</td>\n",
       "      <td>CA</td>\n",
       "      <td>939.0</td>\n",
       "      <td>21</td>\n",
       "      <td>3.0</td>\n",
       "      <td>71</td>\n",
       "      <td>85</td>\n",
       "      <td>10.0</td>\n",
       "      <td>32682</td>\n",
       "      <td>10981</td>\n",
       "      <td>100</td>\n",
       "      <td>93</td>\n",
       "      <td>18553</td>\n",
       "      <td>15</td>\n",
       "      <td>10244</td>\n",
       "      <td>4.0</td>\n",
       "      <td>99.0</td>\n",
       "      <td>100.0</td>\n",
       "    </tr>\n",
       "    <tr>\n",
       "      <th>1</th>\n",
       "      <td>2.0</td>\n",
       "      <td>Rice University</td>\n",
       "      <td>TX</td>\n",
       "      <td>2787.0</td>\n",
       "      <td>24</td>\n",
       "      <td>5.0</td>\n",
       "      <td>68</td>\n",
       "      <td>89</td>\n",
       "      <td>19.0</td>\n",
       "      <td>28350</td>\n",
       "      <td>14779</td>\n",
       "      <td>100</td>\n",
       "      <td>88</td>\n",
       "      <td>22418</td>\n",
       "      <td>34</td>\n",
       "      <td>12705</td>\n",
       "      <td>5.0</td>\n",
       "      <td>89.0</td>\n",
       "      <td>92.0</td>\n",
       "    </tr>\n",
       "    <tr>\n",
       "      <th>3</th>\n",
       "      <td>4.0</td>\n",
       "      <td>Swarthmore College</td>\n",
       "      <td>PA</td>\n",
       "      <td>1479.0</td>\n",
       "      <td>24</td>\n",
       "      <td>8.0</td>\n",
       "      <td>86</td>\n",
       "      <td>92</td>\n",
       "      <td>4.0</td>\n",
       "      <td>38676</td>\n",
       "      <td>17386</td>\n",
       "      <td>100</td>\n",
       "      <td>85</td>\n",
       "      <td>11404</td>\n",
       "      <td>2</td>\n",
       "      <td>12759</td>\n",
       "      <td>21.0</td>\n",
       "      <td>94.0</td>\n",
       "      <td>98.0</td>\n",
       "    </tr>\n",
       "    <tr>\n",
       "      <th>5</th>\n",
       "      <td>6.0</td>\n",
       "      <td>Webb Institute</td>\n",
       "      <td>NY</td>\n",
       "      <td>67.0</td>\n",
       "      <td>42</td>\n",
       "      <td>7.0</td>\n",
       "      <td>79</td>\n",
       "      <td>83</td>\n",
       "      <td>39.0</td>\n",
       "      <td>8079</td>\n",
       "      <td>5579</td>\n",
       "      <td>20</td>\n",
       "      <td>100</td>\n",
       "      <td>8079</td>\n",
       "      <td>100</td>\n",
       "      <td>5700</td>\n",
       "      <td>1.0</td>\n",
       "      <td>100.0</td>\n",
       "      <td>100.0</td>\n",
       "    </tr>\n",
       "    <tr>\n",
       "      <th>7</th>\n",
       "      <td>8.0</td>\n",
       "      <td>Washington and Lee University</td>\n",
       "      <td>VA</td>\n",
       "      <td>1750.0</td>\n",
       "      <td>31</td>\n",
       "      <td>11.0</td>\n",
       "      <td>86</td>\n",
       "      <td>89</td>\n",
       "      <td>30.0</td>\n",
       "      <td>30225</td>\n",
       "      <td>15452</td>\n",
       "      <td>99</td>\n",
       "      <td>87</td>\n",
       "      <td>22063</td>\n",
       "      <td>31</td>\n",
       "      <td>15634</td>\n",
       "      <td>9.0</td>\n",
       "      <td>89.0</td>\n",
       "      <td>89.0</td>\n",
       "    </tr>\n",
       "  </tbody>\n",
       "</table>\n",
       "</div>"
      ],
      "text/plain": [
       "   Overall Rank                              School State  \\\n",
       "0           1.0  California Institute of Technology    CA   \n",
       "1           2.0                     Rice University    TX   \n",
       "3           4.0                  Swarthmore College    PA   \n",
       "5           6.0                      Webb Institute    NY   \n",
       "7           8.0       Washington and Lee University    VA   \n",
       "\n",
       "   Undergrad. Enrollment  Admission Rate  Student/faculty Ratio  \\\n",
       "0                  939.0              21                    3.0   \n",
       "1                 2787.0              24                    5.0   \n",
       "3                 1479.0              24                    8.0   \n",
       "5                   67.0              42                    7.0   \n",
       "7                 1750.0              31                   11.0   \n",
       "\n",
       "   4-year Grad. Rate  6-year Grad. Rate  Quality Rank  Total Costs  \\\n",
       "0                 71                 85          10.0        32682   \n",
       "1                 68                 89          19.0        28350   \n",
       "3                 86                 92           4.0        38676   \n",
       "5                 79                 83          39.0         8079   \n",
       "7                 86                 89          30.0        30225   \n",
       "\n",
       "   Cost After Need-based Aid  Need Met  Aid From Grants  \\\n",
       "0                      10981       100               93   \n",
       "1                      14779       100               88   \n",
       "3                      17386       100               85   \n",
       "5                       5579        20              100   \n",
       "7                      15452        99               87   \n",
       "\n",
       "   Cost After Non-Need-Based Aid  Non-Need-Based Aid+  Average Debt  \\\n",
       "0                          18553                   15         10244   \n",
       "1                          22418                   34         12705   \n",
       "3                          11404                    2         12759   \n",
       "5                           8079                  100          5700   \n",
       "7                          22063                   31         15634   \n",
       "\n",
       "   Cost Rank    SAT    ACT  \n",
       "0        4.0   99.0  100.0  \n",
       "1        5.0   89.0   92.0  \n",
       "3       21.0   94.0   98.0  \n",
       "5        1.0  100.0  100.0  \n",
       "7        9.0   89.0   89.0  "
      ]
     },
     "execution_count": 23,
     "metadata": {},
     "output_type": "execute_result"
    }
   ],
   "source": [
    "clean_data_frame.head()"
   ]
  },
  {
   "cell_type": "code",
   "execution_count": 24,
   "metadata": {},
   "outputs": [
    {
     "data": {
      "text/plain": [
       "Overall Rank                     float64\n",
       "School                            object\n",
       "State                             object\n",
       "Undergrad. Enrollment            float64\n",
       "Admission Rate                     int64\n",
       "Student/faculty Ratio            float64\n",
       "4-year Grad. Rate                  int64\n",
       "6-year Grad. Rate                  int64\n",
       "Quality Rank                     float64\n",
       "Total Costs                        int64\n",
       "Cost After Need-based Aid          int64\n",
       "Need Met                           int64\n",
       "Aid From Grants                    int64\n",
       "Cost After Non-Need-Based Aid      int64\n",
       "Non-Need-Based Aid+                int64\n",
       "Average Debt                       int64\n",
       "Cost Rank                        float64\n",
       "SAT                              float64\n",
       "ACT                              float64\n",
       "dtype: object"
      ]
     },
     "execution_count": 24,
     "metadata": {},
     "output_type": "execute_result"
    }
   ],
   "source": [
    "clean_data_frame.dtypes"
   ]
  },
  {
   "cell_type": "markdown",
   "metadata": {},
   "source": [
    "## Questions\n",
    "### Normalize each attribute of college dataset into range 0 to 1 (Refer to slides to do min-max normalization). "
   ]
  },
  {
   "cell_type": "code",
   "execution_count": 25,
   "metadata": {},
   "outputs": [],
   "source": [
    "def normalise(df, col_name):\n",
    "    min_val = min(df[col_name])\n",
    "    max_val = max(df[col_name])\n",
    "    \n",
    "    range_ = max_val - min_val\n",
    "    \n",
    "    df[col_name] = (df[col_name] - min_val) / range_"
   ]
  },
  {
   "cell_type": "code",
   "execution_count": 26,
   "metadata": {},
   "outputs": [],
   "source": [
    "normalised_data_frame = clean_data_frame.copy()"
   ]
  },
  {
   "cell_type": "code",
   "execution_count": 27,
   "metadata": {},
   "outputs": [],
   "source": [
    "norm_cols = ['Undergrad. Enrollment', 'Admission Rate', 'Student/faculty Ratio', '4-year Grad. Rate', \n",
    "        '6-year Grad. Rate', 'Total Costs','Cost After Need-based Aid', 'Need Met', 'Aid From Grants',\n",
    "        'Cost After Non-Need-Based Aid', 'Non-Need-Based Aid+', 'Average Debt', 'SAT', 'ACT']\n",
    "\n",
    "for col in norm_cols:\n",
    "    normalise(normalised_data_frame, col)"
   ]
  },
  {
   "cell_type": "code",
   "execution_count": 28,
   "metadata": {},
   "outputs": [
    {
     "data": {
      "text/html": [
       "<div>\n",
       "<style scoped>\n",
       "    .dataframe tbody tr th:only-of-type {\n",
       "        vertical-align: middle;\n",
       "    }\n",
       "\n",
       "    .dataframe tbody tr th {\n",
       "        vertical-align: top;\n",
       "    }\n",
       "\n",
       "    .dataframe thead th {\n",
       "        text-align: right;\n",
       "    }\n",
       "</style>\n",
       "<table border=\"1\" class=\"dataframe\">\n",
       "  <thead>\n",
       "    <tr style=\"text-align: right;\">\n",
       "      <th></th>\n",
       "      <th>Overall Rank</th>\n",
       "      <th>School</th>\n",
       "      <th>State</th>\n",
       "      <th>Undergrad. Enrollment</th>\n",
       "      <th>Admission Rate</th>\n",
       "      <th>Student/faculty Ratio</th>\n",
       "      <th>4-year Grad. Rate</th>\n",
       "      <th>6-year Grad. Rate</th>\n",
       "      <th>Quality Rank</th>\n",
       "      <th>Total Costs</th>\n",
       "      <th>Cost After Need-based Aid</th>\n",
       "      <th>Need Met</th>\n",
       "      <th>Aid From Grants</th>\n",
       "      <th>Cost After Non-Need-Based Aid</th>\n",
       "      <th>Non-Need-Based Aid+</th>\n",
       "      <th>Average Debt</th>\n",
       "      <th>Cost Rank</th>\n",
       "      <th>SAT</th>\n",
       "      <th>ACT</th>\n",
       "    </tr>\n",
       "  </thead>\n",
       "  <tbody>\n",
       "    <tr>\n",
       "      <th>0</th>\n",
       "      <td>1.0</td>\n",
       "      <td>California Institute of Technology</td>\n",
       "      <td>CA</td>\n",
       "      <td>0.044895</td>\n",
       "      <td>0.109375</td>\n",
       "      <td>0.000000</td>\n",
       "      <td>0.797753</td>\n",
       "      <td>0.629630</td>\n",
       "      <td>10.0</td>\n",
       "      <td>0.764995</td>\n",
       "      <td>0.233873</td>\n",
       "      <td>1.0000</td>\n",
       "      <td>0.904110</td>\n",
       "      <td>0.354043</td>\n",
       "      <td>0.141414</td>\n",
       "      <td>0.363044</td>\n",
       "      <td>4.0</td>\n",
       "      <td>0.980392</td>\n",
       "      <td>1.000000</td>\n",
       "    </tr>\n",
       "    <tr>\n",
       "      <th>1</th>\n",
       "      <td>2.0</td>\n",
       "      <td>Rice University</td>\n",
       "      <td>TX</td>\n",
       "      <td>0.140040</td>\n",
       "      <td>0.156250</td>\n",
       "      <td>0.142857</td>\n",
       "      <td>0.764045</td>\n",
       "      <td>0.777778</td>\n",
       "      <td>19.0</td>\n",
       "      <td>0.630298</td>\n",
       "      <td>0.398303</td>\n",
       "      <td>1.0000</td>\n",
       "      <td>0.835616</td>\n",
       "      <td>0.484688</td>\n",
       "      <td>0.333333</td>\n",
       "      <td>0.450260</td>\n",
       "      <td>5.0</td>\n",
       "      <td>0.784314</td>\n",
       "      <td>0.822222</td>\n",
       "    </tr>\n",
       "    <tr>\n",
       "      <th>3</th>\n",
       "      <td>4.0</td>\n",
       "      <td>Swarthmore College</td>\n",
       "      <td>PA</td>\n",
       "      <td>0.072697</td>\n",
       "      <td>0.156250</td>\n",
       "      <td>0.357143</td>\n",
       "      <td>0.966292</td>\n",
       "      <td>0.888889</td>\n",
       "      <td>4.0</td>\n",
       "      <td>0.951370</td>\n",
       "      <td>0.511170</td>\n",
       "      <td>1.0000</td>\n",
       "      <td>0.794521</td>\n",
       "      <td>0.112392</td>\n",
       "      <td>0.010101</td>\n",
       "      <td>0.452174</td>\n",
       "      <td>21.0</td>\n",
       "      <td>0.882353</td>\n",
       "      <td>0.955556</td>\n",
       "    </tr>\n",
       "    <tr>\n",
       "      <th>5</th>\n",
       "      <td>6.0</td>\n",
       "      <td>Webb Institute</td>\n",
       "      <td>NY</td>\n",
       "      <td>0.000000</td>\n",
       "      <td>0.437500</td>\n",
       "      <td>0.285714</td>\n",
       "      <td>0.887640</td>\n",
       "      <td>0.555556</td>\n",
       "      <td>39.0</td>\n",
       "      <td>0.000000</td>\n",
       "      <td>0.000000</td>\n",
       "      <td>0.0000</td>\n",
       "      <td>1.000000</td>\n",
       "      <td>0.000000</td>\n",
       "      <td>1.000000</td>\n",
       "      <td>0.202006</td>\n",
       "      <td>1.0</td>\n",
       "      <td>1.000000</td>\n",
       "      <td>1.000000</td>\n",
       "    </tr>\n",
       "    <tr>\n",
       "      <th>7</th>\n",
       "      <td>8.0</td>\n",
       "      <td>Washington and Lee University</td>\n",
       "      <td>VA</td>\n",
       "      <td>0.086650</td>\n",
       "      <td>0.265625</td>\n",
       "      <td>0.571429</td>\n",
       "      <td>0.966292</td>\n",
       "      <td>0.777778</td>\n",
       "      <td>30.0</td>\n",
       "      <td>0.688598</td>\n",
       "      <td>0.427440</td>\n",
       "      <td>0.9875</td>\n",
       "      <td>0.821918</td>\n",
       "      <td>0.472688</td>\n",
       "      <td>0.303030</td>\n",
       "      <td>0.554063</td>\n",
       "      <td>9.0</td>\n",
       "      <td>0.784314</td>\n",
       "      <td>0.755556</td>\n",
       "    </tr>\n",
       "  </tbody>\n",
       "</table>\n",
       "</div>"
      ],
      "text/plain": [
       "   Overall Rank                              School State  \\\n",
       "0           1.0  California Institute of Technology    CA   \n",
       "1           2.0                     Rice University    TX   \n",
       "3           4.0                  Swarthmore College    PA   \n",
       "5           6.0                      Webb Institute    NY   \n",
       "7           8.0       Washington and Lee University    VA   \n",
       "\n",
       "   Undergrad. Enrollment  Admission Rate  Student/faculty Ratio  \\\n",
       "0               0.044895        0.109375               0.000000   \n",
       "1               0.140040        0.156250               0.142857   \n",
       "3               0.072697        0.156250               0.357143   \n",
       "5               0.000000        0.437500               0.285714   \n",
       "7               0.086650        0.265625               0.571429   \n",
       "\n",
       "   4-year Grad. Rate  6-year Grad. Rate  Quality Rank  Total Costs  \\\n",
       "0           0.797753           0.629630          10.0     0.764995   \n",
       "1           0.764045           0.777778          19.0     0.630298   \n",
       "3           0.966292           0.888889           4.0     0.951370   \n",
       "5           0.887640           0.555556          39.0     0.000000   \n",
       "7           0.966292           0.777778          30.0     0.688598   \n",
       "\n",
       "   Cost After Need-based Aid  Need Met  Aid From Grants  \\\n",
       "0                   0.233873    1.0000         0.904110   \n",
       "1                   0.398303    1.0000         0.835616   \n",
       "3                   0.511170    1.0000         0.794521   \n",
       "5                   0.000000    0.0000         1.000000   \n",
       "7                   0.427440    0.9875         0.821918   \n",
       "\n",
       "   Cost After Non-Need-Based Aid  Non-Need-Based Aid+  Average Debt  \\\n",
       "0                       0.354043             0.141414      0.363044   \n",
       "1                       0.484688             0.333333      0.450260   \n",
       "3                       0.112392             0.010101      0.452174   \n",
       "5                       0.000000             1.000000      0.202006   \n",
       "7                       0.472688             0.303030      0.554063   \n",
       "\n",
       "   Cost Rank       SAT       ACT  \n",
       "0        4.0  0.980392  1.000000  \n",
       "1        5.0  0.784314  0.822222  \n",
       "3       21.0  0.882353  0.955556  \n",
       "5        1.0  1.000000  1.000000  \n",
       "7        9.0  0.784314  0.755556  "
      ]
     },
     "execution_count": 28,
     "metadata": {},
     "output_type": "execute_result"
    }
   ],
   "source": [
    "normalised_data_frame.head()"
   ]
  },
  {
   "cell_type": "markdown",
   "metadata": {},
   "source": [
    "### Implement information gain analysis on the colleges dataset to find the gain of each attribute as covered in the class. "
   ]
  },
  {
   "cell_type": "markdown",
   "metadata": {},
   "source": [
    "Assumption: We're splitting the data on the basis of college state."
   ]
  },
  {
   "cell_type": "code",
   "execution_count": 29,
   "metadata": {},
   "outputs": [],
   "source": [
    "# Three categories corresponding to low, medium, high\n",
    "rank_categ = [(1, 33), (34, 67), (68, 100)]\n",
    "norm_categ = [(0, 0.33), (0.34, 0.67), (0.68, 1)]"
   ]
  },
  {
   "cell_type": "code",
   "execution_count": 30,
   "metadata": {},
   "outputs": [],
   "source": [
    "rank_cols = ['Overall Rank', 'Cost Rank', 'Quality Rank']\n",
    "\n",
    "norm_cols = ['Undergrad. Enrollment', 'Admission Rate', 'Student/faculty Ratio', '4-year Grad. Rate', \n",
    "        '6-year Grad. Rate', 'Total Costs','Cost After Need-based Aid', 'Need Met', 'Aid From Grants',\n",
    "        'Cost After Non-Need-Based Aid', 'Non-Need-Based Aid+', 'Average Debt', 'SAT', 'ACT']"
   ]
  },
  {
   "cell_type": "code",
   "execution_count": 31,
   "metadata": {},
   "outputs": [],
   "source": [
    "def information(vals):\n",
    "    info = 0\n",
    "    s = sum(vals)\n",
    "    for x in vals:\n",
    "        p = x/s\n",
    "        if p != 0:\n",
    "            info -= p * math.log(p, 2)\n",
    "    return info"
   ]
  },
  {
   "cell_type": "code",
   "execution_count": 32,
   "metadata": {},
   "outputs": [],
   "source": [
    "def entropy(p, info):\n",
    "    ent = 0\n",
    "    for i in range(len(p)):\n",
    "        ent += p[i] * info[i]\n",
    "    return ent"
   ]
  },
  {
   "cell_type": "code",
   "execution_count": 33,
   "metadata": {},
   "outputs": [
    {
     "name": "stdout",
     "output_type": "stream",
     "text": [
      "['CA' 'TX' 'PA' 'NY' 'VA' 'GA' 'NC' 'IL' 'ME' 'MD' 'MO' 'IN' 'CO' 'MN'\n",
      " 'IA' 'OH' 'MA' 'SC' 'CT' 'TN' 'WA' 'RI' 'DC']\n"
     ]
    }
   ],
   "source": [
    "states = normalised_data_frame['State'].unique()\n",
    "print(states)"
   ]
  },
  {
   "cell_type": "code",
   "execution_count": 34,
   "metadata": {},
   "outputs": [],
   "source": [
    "state_count = normalised_data_frame['State'].value_counts().tolist()"
   ]
  },
  {
   "cell_type": "code",
   "execution_count": 35,
   "metadata": {},
   "outputs": [
    {
     "name": "stdout",
     "output_type": "stream",
     "text": [
      "Information =  4.045413340232901\n"
     ]
    }
   ],
   "source": [
    "state_information = information(state_count)\n",
    "print('Information = ', state_information)"
   ]
  },
  {
   "cell_type": "code",
   "execution_count": 36,
   "metadata": {},
   "outputs": [],
   "source": [
    "total_records = len(normalised_data_frame)"
   ]
  },
  {
   "cell_type": "code",
   "execution_count": 37,
   "metadata": {},
   "outputs": [
    {
     "name": "stdout",
     "output_type": "stream",
     "text": [
      "Gain(Undergrad. Enrollment) = 0.32092490940388974\n",
      "Gain(Admission Rate) = 0.5517704556255469\n",
      "Gain(Student/faculty Ratio) = 0.47370066625532337\n",
      "Gain(4-year Grad. Rate) = 0.4288020592904811\n",
      "Gain(6-year Grad. Rate) = 0.9006836830424207\n",
      "Gain(Total Costs) = 0.41147245545127653\n",
      "Gain(Cost After Need-based Aid) = 0.6279496275293859\n",
      "Gain(Need Met) = 0.20969660534392753\n",
      "Gain(Aid From Grants) = 0.6440307360837498\n",
      "Gain(Cost After Non-Need-Based Aid) = 0.5432867778666317\n",
      "Gain(Non-Need-Based Aid+) = 0.6031368307054676\n",
      "Gain(Average Debt) = 0.543601539010218\n",
      "Gain(SAT) = 0.8305841041020168\n",
      "Gain(ACT) = 0.7980571038113808\n"
     ]
    }
   ],
   "source": [
    "for col in norm_cols:\n",
    "    infos = [] # information\n",
    "    probs = [] # probabilities\n",
    "    \n",
    "    data_col = normalised_data_frame[col]\n",
    "    \n",
    "    for low, hi in norm_categ:\n",
    "        freq_list = [] # frequencies of records satisfying the category and state\n",
    "        req_categ = data_col.between(low, hi, inclusive=True)\n",
    "        for state in states:\n",
    "            state_rec = req_categ.loc[normalised_data_frame['State'] == state].tolist()\n",
    "            freq = sum(state_rec)\n",
    "            freq_list.append(freq)\n",
    "        infos.append(information(freq_list))\n",
    "        probs.append(sum(freq_list) / total_records)\n",
    "    \n",
    "    # Calculate entropy for this column\n",
    "    entrpy = entropy(probs, infos)\n",
    "    gain = state_information - entrpy\n",
    "    print(\"Gain({}) = {}\".format(col, gain))"
   ]
  },
  {
   "cell_type": "code",
   "execution_count": 38,
   "metadata": {},
   "outputs": [
    {
     "name": "stdout",
     "output_type": "stream",
     "text": [
      "Gain(Overall Rank) = 0.6545869443348256\n",
      "Gain(Cost Rank) = 0.6604397204024708\n",
      "Gain(Quality Rank) = 0.6555037878503662\n"
     ]
    }
   ],
   "source": [
    "for col in rank_cols:\n",
    "    infos = [] # information\n",
    "    probs = [] # probabilities\n",
    "    \n",
    "    data_col = normalised_data_frame[col]\n",
    "    \n",
    "    for low, hi in rank_categ:\n",
    "        freq_list = [] # frequencies of records satisfying the category and state\n",
    "        req_categ = data_col.between(low, hi, inclusive=True)\n",
    "        for state in states:\n",
    "            state_rec = req_categ.loc[normalised_data_frame['State'] == state].tolist()\n",
    "            freq = sum(state_rec)\n",
    "            freq_list.append(freq)\n",
    "        infos.append(information(freq_list))\n",
    "        probs.append(sum(freq_list) / total_records)\n",
    "    \n",
    "    # Calculate entropy for this column\n",
    "    entrpy = entropy(probs, infos)\n",
    "    gain = state_information - entrpy\n",
    "    print(\"Gain({}) = {}\".format(col, gain))"
   ]
  }
 ],
 "metadata": {
  "kernelspec": {
   "display_name": "Python 3",
   "language": "python",
   "name": "python3"
  },
  "language_info": {
   "codemirror_mode": {
    "name": "ipython",
    "version": 3
   },
   "file_extension": ".py",
   "mimetype": "text/x-python",
   "name": "python",
   "nbconvert_exporter": "python",
   "pygments_lexer": "ipython3",
   "version": "3.7.1"
  }
 },
 "nbformat": 4,
 "nbformat_minor": 2
}
